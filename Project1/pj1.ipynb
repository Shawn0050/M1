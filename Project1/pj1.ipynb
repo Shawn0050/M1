{
 "cells": [
  {
   "cell_type": "code",
   "execution_count": 2,
   "metadata": {},
   "outputs": [],
   "source": [
    "import requests\n",
    "import telebot\n",
    "import schedule\n",
    "from threading import Thread\n",
    "import time\n",
    "from bs4 import BeautifulSoup\n",
    "\n",
    "# 設定 TAIFEX 期權數據的 URL\n",
    "url = 'https://histock.tw/stock/option.aspx?m=week'\n",
    "\n",
    "# 發送 HTTP 請求\n",
    "response = requests.get(url)\n"
   ]
  },
  {
   "cell_type": "code",
   "execution_count": 3,
   "metadata": {},
   "outputs": [],
   "source": [
    "# 解析網頁\n",
    "soup = BeautifulSoup(response.text, 'html.parser')"
   ]
  },
  {
   "cell_type": "code",
   "execution_count": 4,
   "metadata": {},
   "outputs": [
    {
     "name": "stdout",
     "output_type": "stream",
     "text": [
      "Call ATM Premium: 75\n",
      "Put ATM Premium: 84\n"
     ]
    }
   ],
   "source": [
    "# 找到買賣權價平的成交價\n",
    "# 找到所有的td和th元素\n",
    "cells = soup.find_all(['td', 'th'])\n",
    "\n",
    "# 找出K的索引\n",
    "strike_index = cells.index(soup.find('th', class_='strike tg'))\n",
    "# K前的第五個值是買權價平權利金(要先手點)\n",
    "call_premium_atm = cells[strike_index - 5].get_text()\n",
    "# K後的第三個值是賣權價平權利金（要先手點）\n",
    "put_premium_atm = cells[strike_index + 3].get_text()\n",
    "\n",
    "print(\"Call ATM Premium:\", call_premium_atm)\n",
    "print(\"Put ATM Premium:\", put_premium_atm)"
   ]
  },
  {
   "cell_type": "code",
   "execution_count": 5,
   "metadata": {},
   "outputs": [
    {
     "name": "stdout",
     "output_type": "stream",
     "text": [
      "台指期近月: 16507.65\n"
     ]
    }
   ],
   "source": [
    "# 尋找含有“台指期近月”文本的<a>標籤\n",
    "a_tag = soup.find('a', string=\"加權指數\")\n",
    "\n",
    "# 找到<a>標籤對應的父<span>標籤\n",
    "parent_span = a_tag.find_parent('span')\n",
    "# 然後找到父<span>標籤後的下一個<span>標籤\n",
    "index_span = parent_span.find_next_sibling('span')\n",
    "# 在index-data2中找到所有的<span class=\"clr-rd\">標籤\n",
    "clr_rd_spans = index_span.find_all('span', class_='clr-rd')\n",
    "# 第一個<span class=\"clr-rd\">即為所求\n",
    "index_value = clr_rd_spans[0].get_text()\n",
    "\n",
    "print(\"台指期近月:\", index_value)"
   ]
  },
  {
   "cell_type": "code",
   "execution_count": 6,
   "metadata": {},
   "outputs": [
    {
     "name": "stdout",
     "output_type": "stream",
     "text": [
      "0.0806364292432547\n",
      "0.09031280075244529\n"
     ]
    }
   ],
   "source": [
    "f1c = float(call_premium_atm)\n",
    "f1p = float(put_premium_atm)\n",
    "f2 = float(index_value)\n",
    "Implied_vol_Call = f1c/0.4/f2/((5/252)**0.5)\n",
    "Implied_vol_Put = f1p/0.4/f2/((5/252)**0.5)\n",
    "\n",
    "print(Implied_vol_Call)\n",
    "print(Implied_vol_Put)"
   ]
  },
  {
   "cell_type": "code",
   "execution_count": 7,
   "metadata": {},
   "outputs": [],
   "source": [
    "BOT_TOKEN = \"6266065543:AAGwRgl73SmqBrjNMNNrW6oCskobpUXijcg\"\n",
    "chat_id = \"-1002131116027\"\n",
    "bot = telebot.TeleBot(BOT_TOKEN)\n",
    "def send_message(msg, bot, chat_id):\n",
    "        bot.send_message(chat_id, msg)\n",
    "        print(\"Message sent successfully!\")\n",
    "def schedule_checker():\n",
    "    while True:\n",
    "        schedule.run_pending()\n",
    "        time.sleep(0.5)\n",
    "def check(call_premium_atm, put_premium_atm,index_value):\n",
    "    if Implied_vol_Call > 0.05:\n",
    "          send_message(f'價平Call要進場，權利金參考{call_premium_atm}，履約價參考{index_value}', bot, chat_id)\n",
    "    if Implied_vol_Put > 0.05:\n",
    "          send_message(f'價平Put要進場，權利金參考{put_premium_atm}，履約價參考{index_value}', bot, chat_id)\n",
    "def job():\n",
    "    check(call_premium_atm, put_premium_atm,index_value)\n",
    "\n",
    "\n",
    "# if __name__ == '__main__':\n",
    "#     schedule.every(5).seconds.do(job) \n",
    "#     Thread(target=schedule_checker).start()\n",
    "#     while(True):\n",
    "#         time.sleep(0.5)"
   ]
  }
 ],
 "metadata": {
  "kernelspec": {
   "display_name": "Python 3",
   "language": "python",
   "name": "python3"
  },
  "language_info": {
   "codemirror_mode": {
    "name": "ipython",
    "version": 3
   },
   "file_extension": ".py",
   "mimetype": "text/x-python",
   "name": "python",
   "nbconvert_exporter": "python",
   "pygments_lexer": "ipython3",
   "version": "3.11.5"
  }
 },
 "nbformat": 4,
 "nbformat_minor": 2
}
