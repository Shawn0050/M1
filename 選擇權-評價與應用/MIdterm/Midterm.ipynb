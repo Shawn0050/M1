{
 "cells": [
  {
   "cell_type": "code",
   "execution_count": 10,
   "metadata": {},
   "outputs": [
    {
     "name": "stdout",
     "output_type": "stream",
     "text": [
      "I'm fine\n",
      "I am \"fine\".\n",
      "I am \n",
      "fine.\n",
      "I am \tfine\n",
      "I\\am\\fine.\n"
     ]
    }
   ],
   "source": [
    "# 要調整文字，大方向上是加入 '\\'的組合\n",
    "print('I\\'m fine') # print('I'm find')會Error\n",
    "print('I am \\\"fine\\\".')\n",
    "print('I am \\nfine.')\n",
    "print('I am \\tfine')\n",
    "print('I\\\\am\\\\fine.')"
   ]
  },
  {
   "cell_type": "code",
   "execution_count": 21,
   "metadata": {},
   "outputs": [
    {
     "name": "stdout",
     "output_type": "stream",
     "text": [
      "<class 'complex'>\n",
      "3.0\n",
      "4.0\n",
      "(3+4j)\n",
      "onetwo\n",
      "one two\n",
      "3\n",
      "12\n",
      "False\n",
      "True\n"
     ]
    }
   ],
   "source": [
    "# Data Type\n",
    "a = 3 + 4j # j:複數complex\n",
    "print(type(a))\n",
    "print(a.real)\n",
    "print(a.imag)\n",
    "print(complex(3,4))\n",
    "\n",
    "a = 'one'\n",
    "b = 'two'\n",
    "print(a + b)\n",
    "print(a + ' ' + b) # print(a,b)\n",
    "a = 1\n",
    "b = 2 \n",
    "c = '1'\n",
    "d = '2'\n",
    "print(a + b) # 數字相加\n",
    "print(c + d) # 字串相加\n",
    "print(a == b) # 判斷是否相等\n",
    "print(a != b) # 判斷是否不相等\n"
   ]
  },
  {
   "cell_type": "code",
   "execution_count": 24,
   "metadata": {},
   "outputs": [
    {
     "name": "stdout",
     "output_type": "stream",
     "text": [
      "5\n",
      "2\n",
      "2.0\n"
     ]
    }
   ],
   "source": [
    "# Operators\n",
    "print(15 // 3) # 取商（整數部分）\n",
    "print(14 % 3) # 取餘數\n",
    "print(4 ** 0.5) # 次方取**後面接的數"
   ]
  },
  {
   "cell_type": "code",
   "execution_count": 26,
   "metadata": {},
   "outputs": [
    {
     "name": "stdout",
     "output_type": "stream",
     "text": [
      "<class 'str'>\n",
      "<class 'int'>\n"
     ]
    }
   ],
   "source": [
    "# input()\n",
    "weight = input('請輸入體重：')\n",
    "print(type(weight))\n",
    "weight = int(input('請輸入體重：'))\n",
    "print(type(weight))"
   ]
  },
  {
   "cell_type": "code",
   "execution_count": 30,
   "metadata": {},
   "outputs": [
    {
     "name": "stdout",
     "output_type": "stream",
     "text": [
      "3\n",
      "300\n",
      "今天跑 3 公尺\n",
      "今天跑3公尺\n"
     ]
    }
   ],
   "source": [
    "# print()\n",
    "meter = 3\n",
    "print(meter)\n",
    "print(meter * 100)\n",
    "print('今天跑', meter, '公尺')\n",
    "\n",
    "s1 = '今天跑'\n",
    "s2 = '公尺'\n",
    "# print(s1 + meter + s2) # Error!\n",
    "print(s1 + str(meter) + s2) # 型別需相同(當方法為＋)"
   ]
  },
  {
   "cell_type": "code",
   "execution_count": 31,
   "metadata": {},
   "outputs": [
    {
     "name": "stdout",
     "output_type": "stream",
     "text": [
      "Jack and Ross are good friends\n"
     ]
    }
   ],
   "source": [
    "# Problem 1\n",
    "s1 = input('Name1:')\n",
    "s2 = input('Name2:')\n",
    "print(s1,'and', s2, 'are good friends.')"
   ]
  },
  {
   "cell_type": "code",
   "execution_count": 37,
   "metadata": {},
   "outputs": [
    {
     "name": "stdout",
     "output_type": "stream",
     "text": [
      "Your BMI is24.42.\n"
     ]
    }
   ],
   "source": [
    "# Problem 2\n",
    "s1 = float(input('身高(cm)'))\n",
    "s2 = float(input('體重'))\n",
    "BMI = s2 / (s1/100)**2\n",
    "print('Your BMI is' + str(round(BMI,2)) + '.')"
   ]
  }
 ],
 "metadata": {
  "kernelspec": {
   "display_name": "Python 3",
   "language": "python",
   "name": "python3"
  },
  "language_info": {
   "codemirror_mode": {
    "name": "ipython",
    "version": 3
   },
   "file_extension": ".py",
   "mimetype": "text/x-python",
   "name": "python",
   "nbconvert_exporter": "python",
   "pygments_lexer": "ipython3",
   "version": "3.11.5"
  }
 },
 "nbformat": 4,
 "nbformat_minor": 2
}
