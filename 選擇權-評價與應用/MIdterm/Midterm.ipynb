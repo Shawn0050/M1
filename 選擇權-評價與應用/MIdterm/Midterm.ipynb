{
 "cells": [
  {
   "cell_type": "markdown",
   "metadata": {},
   "source": [
    "### Key point of Midterm\n",
    "1. If statement、if - else、if-elif-else\n",
    "2. String 的章節、f-string\n",
    "3. for 迴圈、More about List 的章節\n",
    "4. Arithmetic Operators: 可能會挖空格填入你應該很熟悉的公式\n",
    "5. 之前課堂上教過的Python選擇權策略分析: (1) 運用Numpy計算策略損益 (2) 運用Plotly繪製策略到期損益圖"
   ]
  },
  {
   "cell_type": "code",
   "execution_count": 4,
   "metadata": {},
   "outputs": [
    {
     "name": "stdout",
     "output_type": "stream",
     "text": [
      "I'm fine\n",
      "I am \"fine\".\n",
      "I am \n",
      "fine.\n",
      "I am \tfine\n",
      "I\\am\\fine.\n"
     ]
    }
   ],
   "source": [
    "# 要調整文字，大方向上是加入 '\\'的組合\n",
    "print('I\\'m fine') # print('I'm find')會Error\n",
    "print('I am \\\"fine\\\".')\n",
    "print('I am \\nfine.')\n",
    "print('I am \\tfine')\n",
    "print('I\\\\am\\\\fine.')"
   ]
  },
  {
   "cell_type": "code",
   "execution_count": 7,
   "metadata": {},
   "outputs": [
    {
     "name": "stdout",
     "output_type": "stream",
     "text": [
      "<class 'complex'>\n",
      "3.0\n",
      "4.0\n",
      "(3+4j)\n",
      "onetwo\n",
      "one two\n",
      "3\n",
      "12\n",
      "False\n",
      "True\n"
     ]
    }
   ],
   "source": [
    "# Data Type\n",
    "a = 3 + 4j # j:複數complex\n",
    "print(type(a))\n",
    "print(a.real)\n",
    "print(a.imag)\n",
    "print(complex(3,4))\n",
    "\n",
    "a = 'one'\n",
    "b = 'two'\n",
    "print(a + b)\n",
    "print(a + ' ' + b) # print(a,b)\n",
    "a = 1\n",
    "b = 2 \n",
    "c = '1'\n",
    "d = '2'\n",
    "print(a + b) # 數字相加\n",
    "print(c + d) # 字串相加\n",
    "print(a == b) # 判斷是否相等\n",
    "print(a != b) # 判斷是否不相等\n"
   ]
  },
  {
   "cell_type": "code",
   "execution_count": null,
   "metadata": {},
   "outputs": [],
   "source": [
    "# Operators\n",
    "print(15 // 3) # 取商（整數部分）\n",
    "print(14 % 3) # 取餘數\n",
    "print(4 ** 0.5) # 次方取**後面接的數"
   ]
  },
  {
   "cell_type": "code",
   "execution_count": null,
   "metadata": {},
   "outputs": [],
   "source": [
    "# input()\n",
    "weight = input('請輸入體重：')\n",
    "print(type(weight))\n",
    "weight = int(input('請輸入體重：'))\n",
    "print(type(weight))"
   ]
  },
  {
   "cell_type": "code",
   "execution_count": 8,
   "metadata": {},
   "outputs": [
    {
     "name": "stdout",
     "output_type": "stream",
     "text": [
      "3\n",
      "300\n",
      "今天跑 3 公尺\n",
      "今天跑3公尺\n"
     ]
    }
   ],
   "source": [
    "# print()\n",
    "meter = 3\n",
    "print(meter)\n",
    "print(meter * 100)\n",
    "print('今天跑', meter, '公尺')\n",
    "\n",
    "s1 = '今天跑'\n",
    "s2 = '公尺'\n",
    "# print(s1 + meter + s2) # Error!\n",
    "print(s1 + str(meter) + s2) # 型別需相同(當方法為＋)"
   ]
  },
  {
   "cell_type": "code",
   "execution_count": null,
   "metadata": {},
   "outputs": [],
   "source": [
    "# Problem 1\n",
    "s1 = input('Name1:')\n",
    "s2 = input('Name2:')\n",
    "print(s1,'and', s2, 'are good friends.')"
   ]
  },
  {
   "cell_type": "code",
   "execution_count": null,
   "metadata": {},
   "outputs": [],
   "source": [
    "# Problem 2\n",
    "s1 = float(input('身高(cm)'))\n",
    "s2 = float(input('體重'))\n",
    "BMI = s2 / (s1/100)**2\n",
    "print('Your BMI is' + str(round(BMI,2)) + '.')"
   ]
  },
  {
   "cell_type": "code",
   "execution_count": 10,
   "metadata": {},
   "outputs": [
    {
     "name": "stdout",
     "output_type": "stream",
     "text": [
      "0 : 1 : 1\n"
     ]
    }
   ],
   "source": [
    "# Problem 3\n",
    "a = int(input('花費總秒數：'))\n",
    "sec = a % 60\n",
    "min1 = a // 60\n",
    "hr = min1 // 60\n",
    "min2 = min1 % 60 \n",
    "print(hr, ':' , min2, ':',  sec)"
   ]
  },
  {
   "cell_type": "code",
   "execution_count": 11,
   "metadata": {},
   "outputs": [
    {
     "name": "stdout",
     "output_type": "stream",
     "text": [
      "146\n",
      "100\n",
      "4600\n",
      "100.0\n",
      "8.0\n"
     ]
    }
   ],
   "source": [
    "# assign\n",
    "a = 100\n",
    "b = 46\n",
    "a += b # means a = a + b\n",
    "print(a)\n",
    "a -= b # means a = a - b\n",
    "print(a)\n",
    "a *= b # means a = a * b\n",
    "print(a)\n",
    "a /= b # means a = a / b\n",
    "print(a)\n",
    "a %= b # means a = a % b\n",
    "print(a)"
   ]
  },
  {
   "cell_type": "code",
   "execution_count": 16,
   "metadata": {},
   "outputs": [
    {
     "name": "stdout",
     "output_type": "stream",
     "text": [
      "ID 12\n",
      "ID:12\n",
      "ID:12\n",
      "ID:12\n"
     ]
    }
   ],
   "source": [
    "# print(sep,end)\n",
    "print('ID',12)\n",
    "print('ID',12,sep=':')\n",
    "print('ID',12,sep=':',end='\\n')"
   ]
  },
  {
   "cell_type": "code",
   "execution_count": 21,
   "metadata": {},
   "outputs": [
    {
     "name": "stdout",
     "output_type": "stream",
     "text": [
      "97\n",
      "a\n"
     ]
    }
   ],
   "source": [
    "# ASCII ord:字母轉數字, chr:數字轉字母\n",
    "print(ord('a'))\n",
    "print(chr(97))"
   ]
  },
  {
   "cell_type": "code",
   "execution_count": null,
   "metadata": {},
   "outputs": [],
   "source": [
    "# if example\n",
    "a = float(input('Enter your income'))\n",
    "if a <= 10000:\n",
    "    tax = 0.02 * a\n",
    "else:\n",
    "    tax = 0.08 * (a - 10000) + 10000*0.02\n",
    "print('Tax amount: $', tax)"
   ]
  },
  {
   "cell_type": "code",
   "execution_count": 23,
   "metadata": {},
   "outputs": [
    {
     "name": "stdout",
     "output_type": "stream",
     "text": [
      "PASS\n"
     ]
    }
   ],
   "source": [
    "# if example 2\n",
    "grade = float(input('Enter Grade'))\n",
    "print('PASS') if grade >= 60 else print('FAIL')"
   ]
  },
  {
   "cell_type": "code",
   "execution_count": null,
   "metadata": {},
   "outputs": [],
   "source": [
    "# nested if-else problem1\n",
    "year = int(input('查詢年份'))\n",
    "if year % 4 == 0:\n",
    "    if year % 100 == 0:\n",
    "        if year % 400 == 0:\n",
    "            print('閏年')\n",
    "        else:\n",
    "            print('平年')\n",
    "    else:\n",
    "        print('閏年')\n",
    "else:\n",
    "    print('平年')"
   ]
  },
  {
   "cell_type": "code",
   "execution_count": null,
   "metadata": {},
   "outputs": [],
   "source": [
    "# GPA計算機\n",
    "midterm_w = 0.4\n",
    "final_w = 0.6\n",
    "gpa = 'A'\n",
    "\n",
    "withdraw = input('停修(T/F)')\n",
    "\n",
    "if withdraw == 'T':\n",
    "    gpa = 'X'\n",
    "else:\n",
    "    midterm = float(input('期中分數'))\n",
    "    final = float(input('期末分數'))\n",
    "    bonus = input('加分作業(T/F)')\n",
    "\n",
    "    score = midterm_w*midterm + final_w*final\n",
    "\n",
    "    if (score < 60 ) and (bonus == 'F'):\n",
    "        gap = 'F'\n",
    "    elif score < 70:\n",
    "        gpa = 'C'\n",
    "    elif (score < 80) and (bonus == 'F'):\n",
    "        gpa = 'B'\n",
    "print('gpa =', gpa)\n"
   ]
  },
  {
   "cell_type": "code",
   "execution_count": null,
   "metadata": {},
   "outputs": [],
   "source": [
    "# problem1\n",
    "n1 = int(input('數字1'))\n",
    "n2 = int(input('數字2'))\n",
    "n3 = int(input('數字3'))\n",
    "print(n1,n2,n3,sep = ',',end = '，')\n",
    "\n",
    "if n1 < n2 and n2 < n3:\n",
    "    print('是遞增函數')\n",
    "else:\n",
    "    print('不是遞增函數')"
   ]
  },
  {
   "cell_type": "code",
   "execution_count": null,
   "metadata": {},
   "outputs": [],
   "source": [
    "c = input('請輸入幣別(N,Y,U)')\n",
    "d = float(input('請輸入金額'))\n",
    "\n",
    "if c == 'N':\n",
    "    if d*1 >= 20000:\n",
    "        print('貸')\n",
    "    else:\n",
    "        print('不貸')\n",
    "elif c == 'Y':\n",
    "    if d/4 >= 20000:\n",
    "        print('貸')\n",
    "    else:\n",
    "        print('不貸')\n",
    "elif c == 'U':\n",
    "    if d*30 >= 20000:\n",
    "        print('貸')\n",
    "    else:\n",
    "        print('不貸')\n",
    "else:\n",
    "    print('幣別錯誤，請重新數入')\n"
   ]
  },
  {
   "cell_type": "code",
   "execution_count": null,
   "metadata": {},
   "outputs": [],
   "source": [
    "a = input()\n",
    "b = input()\n",
    "print(not(a == 'T' and b == 'T'))"
   ]
  },
  {
   "cell_type": "code",
   "execution_count": 24,
   "metadata": {},
   "outputs": [
    {
     "name": "stdout",
     "output_type": "stream",
     "text": [
      ".\n",
      "17\n",
      "True\n",
      ".\n"
     ]
    }
   ],
   "source": [
    "s1 = 'PBC'\n",
    "s2 = s1 * 3 + ' is fun.'\n",
    "print(s2[16])\n",
    "print(len(s2))\n",
    "print('BCP' in s2)\n",
    "print(s2[len(s2)-1])  # 等於該字串最後一個字元的 index\n"
   ]
  },
  {
   "cell_type": "code",
   "execution_count": 38,
   "metadata": {},
   "outputs": [
    {
     "name": "stdout",
     "output_type": "stream",
     "text": [
      "pPL\n",
      "Apple pen\n",
      "APPLE PEN\n",
      "Apple Pen\n",
      "1\n",
      "ApOLe Oen\n",
      "['Ap', 'Le ', 'en']\n",
      "A!p!P!L!e! !P!e!n\n",
      "False\n",
      "False\n",
      "True\n",
      "False\n",
      "ApPLe Pen\n",
      "ApPLe Pe\n"
     ]
    }
   ],
   "source": [
    "# s[start:end:step] 取頭不取尾\n",
    "# Useful String Functions\n",
    "s = 'ApPLe Pen'\n",
    "print(s[1:4:1])\n",
    "print(s.capitalize())\n",
    "print(s.upper())\n",
    "print(s.title())\n",
    "print(s.find('p'))\n",
    "print(s.replace('P','O'))\n",
    "print(s.split('P'))\n",
    "\n",
    "print('!'.join(s))\n",
    "\n",
    "print(s.isnumeric())\n",
    "print(s.isalpha()) # 判斷是否為英文字母\n",
    "print(s.upper().isupper())\n",
    "print(s.islower())\n",
    "print(s.strip())\n",
    "print(s.strip('n')) # 移除前後多餘的部分"
   ]
  },
  {
   "cell_type": "code",
   "execution_count": null,
   "metadata": {},
   "outputs": [],
   "source": [
    "# String Formatting\n",
    "name = 'LSN'\n",
    "age = 10\n",
    "print(f'{name} is {age} years old.')\n",
    "num = 5\n",
    "print(f'{num:03.0f}')  #{num:03d} \n",
    "num = 3.1415\n",
    "print(f'{num:+.2f}')\n",
    "print(f'{num:-03.2f}')\n",
    "\n",
    "print('The values are {}, {} and {}.'.format(1,2,False))\n",
    "print('{:06.2f}'.format(2.534))"
   ]
  },
  {
   "cell_type": "code",
   "execution_count": 39,
   "metadata": {},
   "outputs": [
    {
     "data": {
      "text/html": [
       "<div>\n",
       "<style scoped>\n",
       "    .dataframe tbody tr th:only-of-type {\n",
       "        vertical-align: middle;\n",
       "    }\n",
       "\n",
       "    .dataframe tbody tr th {\n",
       "        vertical-align: top;\n",
       "    }\n",
       "\n",
       "    .dataframe thead th {\n",
       "        text-align: right;\n",
       "    }\n",
       "</style>\n",
       "<table border=\"1\" class=\"dataframe\">\n",
       "  <thead>\n",
       "    <tr style=\"text-align: right;\">\n",
       "      <th></th>\n",
       "      <th>Open</th>\n",
       "      <th>High</th>\n",
       "      <th>Low</th>\n",
       "      <th>Close</th>\n",
       "      <th>Volume</th>\n",
       "      <th>Dividends</th>\n",
       "      <th>Stock Splits</th>\n",
       "    </tr>\n",
       "  </thead>\n",
       "  <tbody>\n",
       "    <tr>\n",
       "      <th>count</th>\n",
       "      <td>1008.000000</td>\n",
       "      <td>1008.000000</td>\n",
       "      <td>1008.000000</td>\n",
       "      <td>1008.000000</td>\n",
       "      <td>1.008000e+03</td>\n",
       "      <td>1008.000000</td>\n",
       "      <td>1008.000000</td>\n",
       "    </tr>\n",
       "    <tr>\n",
       "      <th>mean</th>\n",
       "      <td>109.092189</td>\n",
       "      <td>110.441411</td>\n",
       "      <td>107.797347</td>\n",
       "      <td>109.174607</td>\n",
       "      <td>1.120997e+08</td>\n",
       "      <td>0.003316</td>\n",
       "      <td>0.003968</td>\n",
       "    </tr>\n",
       "    <tr>\n",
       "      <th>std</th>\n",
       "      <td>43.302224</td>\n",
       "      <td>43.832782</td>\n",
       "      <td>42.724652</td>\n",
       "      <td>43.284003</td>\n",
       "      <td>5.310973e+07</td>\n",
       "      <td>0.026192</td>\n",
       "      <td>0.125988</td>\n",
       "    </tr>\n",
       "    <tr>\n",
       "      <th>min</th>\n",
       "      <td>34.593906</td>\n",
       "      <td>35.011975</td>\n",
       "      <td>34.118174</td>\n",
       "      <td>34.163826</td>\n",
       "      <td>3.519590e+07</td>\n",
       "      <td>0.000000</td>\n",
       "      <td>0.000000</td>\n",
       "    </tr>\n",
       "    <tr>\n",
       "      <th>25%</th>\n",
       "      <td>64.969337</td>\n",
       "      <td>65.753408</td>\n",
       "      <td>64.281729</td>\n",
       "      <td>65.088940</td>\n",
       "      <td>7.755390e+07</td>\n",
       "      <td>0.000000</td>\n",
       "      <td>0.000000</td>\n",
       "    </tr>\n",
       "    <tr>\n",
       "      <th>50%</th>\n",
       "      <td>121.924719</td>\n",
       "      <td>123.096973</td>\n",
       "      <td>120.266991</td>\n",
       "      <td>121.853481</td>\n",
       "      <td>9.693830e+07</td>\n",
       "      <td>0.000000</td>\n",
       "      <td>0.000000</td>\n",
       "    </tr>\n",
       "    <tr>\n",
       "      <th>75%</th>\n",
       "      <td>145.671649</td>\n",
       "      <td>147.351460</td>\n",
       "      <td>143.994894</td>\n",
       "      <td>145.881992</td>\n",
       "      <td>1.290616e+08</td>\n",
       "      <td>0.000000</td>\n",
       "      <td>0.000000</td>\n",
       "    </tr>\n",
       "    <tr>\n",
       "      <th>max</th>\n",
       "      <td>180.804778</td>\n",
       "      <td>181.111677</td>\n",
       "      <td>177.329848</td>\n",
       "      <td>180.190994</td>\n",
       "      <td>4.265100e+08</td>\n",
       "      <td>0.230000</td>\n",
       "      <td>4.000000</td>\n",
       "    </tr>\n",
       "  </tbody>\n",
       "</table>\n",
       "</div>"
      ],
      "text/plain": [
       "              Open         High          Low        Close        Volume  \\\n",
       "count  1008.000000  1008.000000  1008.000000  1008.000000  1.008000e+03   \n",
       "mean    109.092189   110.441411   107.797347   109.174607  1.120997e+08   \n",
       "std      43.302224    43.832782    42.724652    43.284003  5.310973e+07   \n",
       "min      34.593906    35.011975    34.118174    34.163826  3.519590e+07   \n",
       "25%      64.969337    65.753408    64.281729    65.088940  7.755390e+07   \n",
       "50%     121.924719   123.096973   120.266991   121.853481  9.693830e+07   \n",
       "75%     145.671649   147.351460   143.994894   145.881992  1.290616e+08   \n",
       "max     180.804778   181.111677   177.329848   180.190994  4.265100e+08   \n",
       "\n",
       "         Dividends  Stock Splits  \n",
       "count  1008.000000   1008.000000  \n",
       "mean      0.003316      0.003968  \n",
       "std       0.026192      0.125988  \n",
       "min       0.000000      0.000000  \n",
       "25%       0.000000      0.000000  \n",
       "50%       0.000000      0.000000  \n",
       "75%       0.000000      0.000000  \n",
       "max       0.230000      4.000000  "
      ]
     },
     "execution_count": 39,
     "metadata": {},
     "output_type": "execute_result"
    }
   ],
   "source": [
    "# yfinance\n",
    "import yfinance as yf\n",
    "import pandas as pd\n",
    "data = yf.Ticker('AAPL')\n",
    "aapl = data.history(period='D', start='2019-1-1', end='2023-1-1')\n",
    "aapl['Close'].value_counts().to_frame()  # 統計出現過的價格\n",
    "aapl['Close'].to_frame()\n",
    "aapl.describe()"
   ]
  },
  {
   "cell_type": "code",
   "execution_count": 42,
   "metadata": {},
   "outputs": [
    {
     "data": {
      "text/plain": [
       "<Axes: xlabel='Date'>"
      ]
     },
     "execution_count": 42,
     "metadata": {},
     "output_type": "execute_result"
    },
    {
     "data": {
      "image/png": "[encoded data removed]",
      "text/plain": [
       "<Figure size 500x500 with 1 Axes>"
      ]
     },
     "metadata": {},
     "output_type": "display_data"
    }
   ],
   "source": [
    "import matplotlib.pyplot as plt\n",
    "import seaborn\n",
    "seaborn.set()\n",
    "plt.figure(figsize=(5,5))\n",
    "aapl['Close'].plot()"
   ]
  },
  {
   "cell_type": "code",
   "execution_count": 43,
   "metadata": {},
   "outputs": [
    {
     "name": "stdout",
     "output_type": "stream",
     "text": [
      "cat\n",
      "dog\n",
      "['cat', 'dog', 'lion', 5, 6, 7]\n",
      "[2, 3, 5, 6, 7]\n",
      "['cat', 'dog', 'lion', 8]\n",
      "1\n",
      "['cat', 'dog', 9, 'lion', 8]\n",
      "['cat', 'dog', 9, 'lion']\n",
      "['lion', 9, 'dog', 'cat']\n"
     ]
    }
   ],
   "source": [
    "# List\n",
    "animals = ['cat', 'dog', 'lion']\n",
    "print(animals[0])\n",
    "a = animals\n",
    "print(a[1])\n",
    "type(a)\n",
    "\n",
    "b = [1,2,3,4]\n",
    "c = [5,6,7]\n",
    "print(a + c)\n",
    "print(b[1:3] + c)\n",
    "a.append(8)\n",
    "print(a)\n",
    "print(a.count(8))\n",
    "a.insert(2,9)  # 把9加到index2後面\n",
    "print(a)\n",
    "a.pop()  # 取出最後一個元素\n",
    "print(a) \n",
    "a.reverse()\n",
    "print(a)"
   ]
  },
  {
   "cell_type": "code",
   "execution_count": 50,
   "metadata": {},
   "outputs": [
    {
     "name": "stdout",
     "output_type": "stream",
     "text": [
      "0\n",
      "1\n",
      "2\n",
      "3\n",
      "4\n",
      "0\n",
      "1\n",
      "2\n",
      "0\n",
      "5\n",
      "cat\n",
      "dog\n",
      "lion\n",
      "a,p,p,l,e,"
     ]
    }
   ],
   "source": [
    "# Loop\n",
    "# While: 完成「條件」為目標\n",
    "a = 0\n",
    "while a < 5:\n",
    "    print(a)\n",
    "    a += 1 # a = a+1\n",
    "# for: 完成「次數」為目標\n",
    "for i in range(0,3):  # 取頭不取尾，起點是0，終點是2\n",
    "    print(i)\n",
    "for i in range(0,10,5):  #最後一個參數是step\n",
    "    print(i)\n",
    "for i in ['cat','dog','lion']:  # 若i是在list中，則沒有頭尾都會取\n",
    "    print(i)\n",
    "\n",
    "s = 'apple'\n",
    "for i in s:\n",
    "    print(i, end=',')"
   ]
  },
  {
   "cell_type": "code",
   "execution_count": 53,
   "metadata": {},
   "outputs": [
    {
     "name": "stdout",
     "output_type": "stream",
     "text": [
      "(1,1),(1,2),(1,3),\n",
      "(2,1),(2,2),(2,3),\n",
      "(3,1),(3,2),(3,3),\n",
      "2*1 = 2,2*2 = 4,2*3 = 6,2*4 = 8,2*5 = 10,2*6 = 12,2*7 = 14,2*8 = 16,2*9 = 18,\n",
      "3*1 = 3,3*2 = 6,3*3 = 9,3*4 = 12,3*5 = 15,3*6 = 18,3*7 = 21,3*8 = 24,3*9 = 27,\n",
      "4*1 = 4,4*2 = 8,4*3 = 12,4*4 = 16,4*5 = 20,4*6 = 24,4*7 = 28,4*8 = 32,4*9 = 36,\n",
      "5*1 = 5,5*2 = 10,5*3 = 15,5*4 = 20,5*5 = 25,5*6 = 30,5*7 = 35,5*8 = 40,5*9 = 45,\n",
      "6*1 = 6,6*2 = 12,6*3 = 18,6*4 = 24,6*5 = 30,6*6 = 36,6*7 = 42,6*8 = 48,6*9 = 54,\n",
      "7*1 = 7,7*2 = 14,7*3 = 21,7*4 = 28,7*5 = 35,7*6 = 42,7*7 = 49,7*8 = 56,7*9 = 63,\n",
      "8*1 = 8,8*2 = 16,8*3 = 24,8*4 = 32,8*5 = 40,8*6 = 48,8*7 = 56,8*8 = 64,8*9 = 72,\n",
      "9*1 = 9,9*2 = 18,9*3 = 27,9*4 = 36,9*5 = 45,9*6 = 54,9*7 = 63,9*8 = 72,9*9 = 81,\n"
     ]
    }
   ],
   "source": [
    "# nested Loop\n",
    "for x in range(0,3):  # or range(1,4) \n",
    "    x += 1\n",
    "    for y in range(0,3):\n",
    "        y += 1\n",
    "        print('('+str(x)+','+str(y)+')',end=',')\n",
    "    print('')\n",
    "\n",
    "for i in range(2,10):\n",
    "    for j in range(1,10):\n",
    "        print(f'{i}*{j} = {i*j}',end=',')\n",
    "    print('')\n"
   ]
  },
  {
   "cell_type": "code",
   "execution_count": 54,
   "metadata": {},
   "outputs": [
    {
     "name": "stdout",
     "output_type": "stream",
     "text": [
      "1,1\n",
      "2,1\n",
      "3,1\n",
      "\n",
      "1,1\n",
      "1,3\n",
      "2,1\n",
      "2,3\n",
      "3,1\n",
      "3,3\n"
     ]
    }
   ],
   "source": [
    "# break and continue\n",
    "for i in range(1,4):\n",
    "    for j in range(1,4):\n",
    "        if j == 2:\n",
    "            break   # 跳出當前迴圈\n",
    "        print(f'{i},{j}')\n",
    "print('')\n",
    "for i in range(1,4):\n",
    "    for j in range(1,4):\n",
    "        if j == 2:\n",
    "            continue   # 略過當前清況，並繼續迴圈\n",
    "        print(f'{i},{j}')"
   ]
  },
  {
   "cell_type": "code",
   "execution_count": null,
   "metadata": {},
   "outputs": [],
   "source": [
    "# problem1\n",
    "num = 0\n",
    "for i in ['一','二','三','四','五']:\n",
    "    num1 = int(input('請輸入週{}加選人數'.format(i)))\n",
    "    num += num1\n",
    "print(num)"
   ]
  },
  {
   "cell_type": "code",
   "execution_count": null,
   "metadata": {},
   "outputs": [],
   "source": [
    "# problem2\n",
    "for i in ['一','二','三','四','五']:\n",
    "    num1 = int(input('請輸入週{}加選人數'.format(i)))\n",
    "    if num1 < 0:\n",
    "        day = i\n",
    "        break\n",
    "print(day)"
   ]
  },
  {
   "cell_type": "code",
   "execution_count": 55,
   "metadata": {},
   "outputs": [
    {
     "name": "stdout",
     "output_type": "stream",
     "text": [
      "三\n"
     ]
    }
   ],
   "source": [
    "# problem3\n",
    "num = 0\n",
    "mistake = False\n",
    "for i in ['一','二','三','四','五']:\n",
    "    num1 = int(input('請輸入週{}加選人數'.format(i)))\n",
    "    num += num1\n",
    "    if num1 < 0:\n",
    "        day = i\n",
    "        mistake = True\n",
    "        \n",
    "        break\n",
    "if mistake == True:\n",
    "    print(day)\n",
    "else:\n",
    "    print(num)"
   ]
  },
  {
   "cell_type": "code",
   "execution_count": null,
   "metadata": {},
   "outputs": [],
   "source": [
    "# problem4\n",
    "num = []\n",
    "for i in ['一','二','三','四','五']:\n",
    "    num1 = int(input('請輸入週{}加選人數'.format(i)))\n",
    "    num.append(num1)\n",
    "print(f'加選人數最少的那天有{min(num)}個人加選')\n"
   ]
  },
  {
   "cell_type": "code",
   "execution_count": 60,
   "metadata": {},
   "outputs": [
    {
     "name": "stdout",
     "output_type": "stream",
     "text": [
      "['b', 'c', 'd']\n",
      "[]\n",
      "['c', 'd', 'e']\n",
      "['c', 'd']\n",
      "5\n",
      "[0, 3, 7, 4, 2, 1, 6, 7]\n",
      "[0, 1, 2, 3, 4, 6, 7, 7]\n"
     ]
    }
   ],
   "source": [
    "# more List-1\n",
    "a = ['a','b','c','d','e']\n",
    "print(a[1:4])  # 取頭不取尾\n",
    "print(a[1:1])\n",
    "print(a[2:])  # 取2到len(a)-1\n",
    "print(a[2:-1])  # 取2到len(a)-1\n",
    "print(len(a))\n",
    "\n",
    "a = [0,3,7,4,2,1,6,7]\n",
    "# a.sort()\n",
    "print(a)\n",
    "b = sorted(a)\n",
    "print(b)\n",
    "# a.sort()\n",
    "# print(a)"
   ]
  },
  {
   "cell_type": "code",
   "execution_count": 62,
   "metadata": {},
   "outputs": [
    {
     "name": "stdout",
     "output_type": "stream",
     "text": [
      "['1', '1', '1']\n",
      "['1 1 1 ']\n",
      "['1 1 1 ']\n"
     ]
    }
   ],
   "source": [
    "# more List-2\n",
    "a = input().split()\n",
    "print(a)\n",
    "a = input().split(',')\n",
    "print(a)\n",
    "a = input().split(':')\n",
    "print(a)"
   ]
  },
  {
   "cell_type": "code",
   "execution_count": 63,
   "metadata": {},
   "outputs": [
    {
     "name": "stdout",
     "output_type": "stream",
     "text": [
      "[1, 2, 3]\n",
      "[1, 4, 9, 16]\n",
      "[1, 9, 25, 49]\n"
     ]
    }
   ],
   "source": [
    "# more List-3\n",
    "nums = [int(i) for i in input().split()]\n",
    "print(nums)\n",
    "nums = [int(i) * int(i) for i in input().split()]\n",
    "print(nums)\n",
    "nums = [int(i) * int(i) for i in input().split() if int(i) % 2 == 1]  # only odd square\n",
    "print(nums)"
   ]
  },
  {
   "cell_type": "code",
   "execution_count": null,
   "metadata": {},
   "outputs": [],
   "source": [
    "strlist = ['apple', 'pen', 'banana', 'pen']\n",
    "a = [i.upper() for i in strlist]\n",
    "print(a)"
   ]
  },
  {
   "cell_type": "code",
   "execution_count": 64,
   "metadata": {},
   "outputs": [
    {
     "name": "stdout",
     "output_type": "stream",
     "text": [
      "0 a\n",
      "1 b\n",
      "2 c\n",
      "3 d\n",
      "4 e\n"
     ]
    }
   ],
   "source": [
    "# enumerate():取得list之編號與值\n",
    "lst = ['a','b','c','d','e']\n",
    "for i, j in enumerate(lst):\n",
    "    print(i, j)"
   ]
  },
  {
   "cell_type": "code",
   "execution_count": 69,
   "metadata": {},
   "outputs": [
    {
     "name": "stdout",
     "output_type": "stream",
     "text": [
      "9.0\n",
      "30.0\n",
      "32.0\n",
      "\n",
      "71.0\n"
     ]
    }
   ],
   "source": [
    "# zip()\n",
    "lst1 = [0.1, 0.5, 0.4]\n",
    "lst2 = [90, 60, 80]\n",
    "a1 = []\n",
    "for i, j in zip(lst1, lst2):\n",
    "    a = i*j\n",
    "    print(a)\n",
    "    a1.append(a)\n",
    "print('\\n'+str(sum(a1)))\n",
    "# 如果zip長短不一，以短的為主"
   ]
  },
  {
   "cell_type": "code",
   "execution_count": 73,
   "metadata": {},
   "outputs": [
    {
     "name": "stdout",
     "output_type": "stream",
     "text": [
      "False\n",
      "[1, 4, 5, 6, 7, 23]\n"
     ]
    }
   ],
   "source": [
    "# problem1\n",
    "a = [int(i) for i in input('輸入數列，以空格分開').split()]\n",
    "print(sorted(a) == a)\n",
    "a.sort()\n",
    "print(a)"
   ]
  },
  {
   "cell_type": "code",
   "execution_count": null,
   "metadata": {},
   "outputs": [],
   "source": [
    "# problem2\n",
    "users = []\n",
    "phones = []\n",
    "\n",
    "while True:\n",
    "    input_str = input('數入使用者名稱與電話，以空格隔開')\n",
    "    if input_str == 'f':\n",
    "        break\n",
    "    input_lst = input_str.split()\n",
    "    user = input_lst[0]\n",
    "    phone = input_lst[1]\n",
    "    users.append(user)\n",
    "    phones.append(phone)\n",
    "\n",
    "input_list=input('收尋範圍').split()\n",
    "begin = int(input_list[0])\n",
    "end = int(input_list[1])\n",
    "searched_users = users[begin:end]\n",
    "searched_phones = phones[begin:end]\n",
    "\n",
    "print('您輸入了',len(users),'筆資料')\n",
    "print('您查詢了',len(searched_users),'筆資料')\n",
    "for i in range(len(searched_users)):\n",
    "    print(f'使用者{searched_users[i]} 電話號碼為 {searched_phones[i]}')"
   ]
  },
  {
   "cell_type": "code",
   "execution_count": null,
   "metadata": {},
   "outputs": [],
   "source": [
    "# problem3\n",
    "import numpy as np\n",
    "s = [int(i) for i in input('輸入學生成績以逗號隔開').split(',')]\n",
    "\n",
    "if sum(s)/len(s) >= 40:\n",
    "    print(s)\n",
    "else:\n",
    "    s = [int(i ** 0.5 *10) for i in s]\n",
    "    print(s)\n"
   ]
  },
  {
   "cell_type": "code",
   "execution_count": null,
   "metadata": {},
   "outputs": [],
   "source": [
    "# 之前課堂上教過的Python選擇權策略分析: (1) 運用Numpy計算策略損益\n",
    "# 初始化參數\n",
    "import numpy as np\n",
    "call_premium = 5   # Call權利金\n",
    "put_premium = 5  # Put權利金\n",
    "strike_price = 75   # 履約價格\n",
    "prices_range = np.array(range(50, 101, 1))  #定義股票價格區間\n",
    "stock_prices = prices_range  # 股價\n",
    "#計算損益(+call, -call, +put, -put )\n",
    "longCall_profits = np.where(stock_prices > strike_price, (stock_prices - strike_price) - call_premium, - call_premium )\n",
    "shortCall_profits = np.where(stock_prices > strike_price, - ((stock_prices - strike_price) - call_premium), + call_premium )\n",
    "longPut_profits = np.where(stock_prices < strike_price, (strike_price - stock_prices) - put_premium, - put_premium)\n",
    "shortPut_profits = np.where(stock_prices < strike_price, - ((strike_price - stock_prices) - put_premium), + put_premium)\n",
    "stock_profits = stock_prices - strike_price\n",
    "# to construct a portfolio like straddle: strategy = longCall_profits + long_profits"
   ]
  },
  {
   "cell_type": "code",
   "execution_count": 91,
   "metadata": {},
   "outputs": [
    {
     "data": {
      "application/vnd.plotly.v1+json": {
       "config": {
        "plotlyServerURL": "https://plot.ly"
       },
       "data": [
        {
         "line": {
          "color": "gray"
         },
         "mode": "lines",
         "name": "+S",
         "type": "scatter",
         "x": [
          50,
          51,
          52,
          53,
          54,
          55,
          56,
          57,
          58,
          59,
          60,
          61,
          62,
          63,
          64,
          65,
          66,
          67,
          68,
          69,
          70,
          71,
          72,
          73,
          74,
          75,
          76,
          77,
          78,
          79,
          80,
          81,
          82,
          83,
          84,
          85,
          86,
          87,
          88,
          89,
          90,
          91,
          92,
          93,
          94,
          95,
          96,
          97,
          98,
          99,
          100
         ],
         "y": [
          -25,
          -24,
          -23,
          -22,
          -21,
          -20,
          -19,
          -18,
          -17,
          -16,
          -15,
          -14,
          -13,
          -12,
          -11,
          -10,
          -9,
          -8,
          -7,
          -6,
          -5,
          -4,
          -3,
          -2,
          -1,
          0,
          1,
          2,
          3,
          4,
          5,
          6,
          7,
          8,
          9,
          10,
          11,
          12,
          13,
          14,
          15,
          16,
          17,
          18,
          19,
          20,
          21,
          22,
          23,
          24,
          25
         ]
        },
        {
         "line": {
          "color": "red"
         },
         "mode": "lines",
         "name": "+C",
         "type": "scatter",
         "x": [
          50,
          51,
          52,
          53,
          54,
          55,
          56,
          57,
          58,
          59,
          60,
          61,
          62,
          63,
          64,
          65,
          66,
          67,
          68,
          69,
          70,
          71,
          72,
          73,
          74,
          75,
          76,
          77,
          78,
          79,
          80,
          81,
          82,
          83,
          84,
          85,
          86,
          87,
          88,
          89,
          90,
          91,
          92,
          93,
          94,
          95,
          96,
          97,
          98,
          99,
          100
         ],
         "y": [
          -5,
          -5,
          -5,
          -5,
          -5,
          -5,
          -5,
          -5,
          -5,
          -5,
          -5,
          -5,
          -5,
          -5,
          -5,
          -5,
          -5,
          -5,
          -5,
          -5,
          -5,
          -5,
          -5,
          -5,
          -5,
          -5,
          -4,
          -3,
          -2,
          -1,
          0,
          1,
          2,
          3,
          4,
          5,
          6,
          7,
          8,
          9,
          10,
          11,
          12,
          13,
          14,
          15,
          16,
          17,
          18,
          19,
          20
         ]
        },
        {
         "line": {
          "color": "pink"
         },
         "mode": "lines",
         "name": "-C",
         "type": "scatter",
         "x": [
          50,
          51,
          52,
          53,
          54,
          55,
          56,
          57,
          58,
          59,
          60,
          61,
          62,
          63,
          64,
          65,
          66,
          67,
          68,
          69,
          70,
          71,
          72,
          73,
          74,
          75,
          76,
          77,
          78,
          79,
          80,
          81,
          82,
          83,
          84,
          85,
          86,
          87,
          88,
          89,
          90,
          91,
          92,
          93,
          94,
          95,
          96,
          97,
          98,
          99,
          100
         ],
         "y": [
          5,
          5,
          5,
          5,
          5,
          5,
          5,
          5,
          5,
          5,
          5,
          5,
          5,
          5,
          5,
          5,
          5,
          5,
          5,
          5,
          5,
          5,
          5,
          5,
          5,
          5,
          4,
          3,
          2,
          1,
          0,
          -1,
          -2,
          -3,
          -4,
          -5,
          -6,
          -7,
          -8,
          -9,
          -10,
          -11,
          -12,
          -13,
          -14,
          -15,
          -16,
          -17,
          -18,
          -19,
          -20
         ]
        },
        {
         "line": {
          "color": "blue"
         },
         "mode": "lines",
         "name": "+P",
         "type": "scatter",
         "x": [
          50,
          51,
          52,
          53,
          54,
          55,
          56,
          57,
          58,
          59,
          60,
          61,
          62,
          63,
          64,
          65,
          66,
          67,
          68,
          69,
          70,
          71,
          72,
          73,
          74,
          75,
          76,
          77,
          78,
          79,
          80,
          81,
          82,
          83,
          84,
          85,
          86,
          87,
          88,
          89,
          90,
          91,
          92,
          93,
          94,
          95,
          96,
          97,
          98,
          99,
          100
         ],
         "y": [
          20,
          19,
          18,
          17,
          16,
          15,
          14,
          13,
          12,
          11,
          10,
          9,
          8,
          7,
          6,
          5,
          4,
          3,
          2,
          1,
          0,
          -1,
          -2,
          -3,
          -4,
          -5,
          -5,
          -5,
          -5,
          -5,
          -5,
          -5,
          -5,
          -5,
          -5,
          -5,
          -5,
          -5,
          -5,
          -5,
          -5,
          -5,
          -5,
          -5,
          -5,
          -5,
          -5,
          -5,
          -5,
          -5,
          -5
         ]
        },
        {
         "line": {
          "color": "lightblue"
         },
         "mode": "lines",
         "name": "-P",
         "type": "scatter",
         "x": [
          50,
          51,
          52,
          53,
          54,
          55,
          56,
          57,
          58,
          59,
          60,
          61,
          62,
          63,
          64,
          65,
          66,
          67,
          68,
          69,
          70,
          71,
          72,
          73,
          74,
          75,
          76,
          77,
          78,
          79,
          80,
          81,
          82,
          83,
          84,
          85,
          86,
          87,
          88,
          89,
          90,
          91,
          92,
          93,
          94,
          95,
          96,
          97,
          98,
          99,
          100
         ],
         "y": [
          -20,
          -19,
          -18,
          -17,
          -16,
          -15,
          -14,
          -13,
          -12,
          -11,
          -10,
          -9,
          -8,
          -7,
          -6,
          -5,
          -4,
          -3,
          -2,
          -1,
          0,
          1,
          2,
          3,
          4,
          5,
          5,
          5,
          5,
          5,
          5,
          5,
          5,
          5,
          5,
          5,
          5,
          5,
          5,
          5,
          5,
          5,
          5,
          5,
          5,
          5,
          5,
          5,
          5,
          5,
          5
         ]
        }
       ],
       "layout": {
        "plot_bgcolor": "white",
        "shapes": [
         {
          "line": {
           "color": "darkgrey",
           "width": 3
          },
          "type": "line",
          "x0": 0,
          "x1": 1,
          "xref": "paper",
          "y0": 0,
          "y1": 0
         }
        ],
        "showlegend": true,
        "template": {
         "data": {
          "bar": [
           {
            "error_x": {
             "color": "#2a3f5f"
            },
            "error_y": {
             "color": "#2a3f5f"
            },
            "marker": {
             "line": {
              "color": "#E5ECF6",
              "width": 0.5
             },
             "pattern": {
              "fillmode": "overlay",
              "size": 10,
              "solidity": 0.2
             }
            },
            "type": "bar"
           }
          ],
          "barpolar": [
           {
            "marker": {
             "line": {
              "color": "#E5ECF6",
              "width": 0.5
             },
             "pattern": {
              "fillmode": "overlay",
              "size": 10,
              "solidity": 0.2
             }
            },
            "type": "barpolar"
           }
          ],
          "carpet": [
           {
            "aaxis": {
             "endlinecolor": "#2a3f5f",
             "gridcolor": "white",
             "linecolor": "white",
             "minorgridcolor": "white",
             "startlinecolor": "#2a3f5f"
            },
            "baxis": {
             "endlinecolor": "#2a3f5f",
             "gridcolor": "white",
             "linecolor": "white",
             "minorgridcolor": "white",
             "startlinecolor": "#2a3f5f"
            },
            "type": "carpet"
           }
          ],
          "choropleth": [
           {
            "colorbar": {
             "outlinewidth": 0,
             "ticks": ""
            },
            "type": "choropleth"
           }
          ],
          "contour": [
           {
            "colorbar": {
             "outlinewidth": 0,
             "ticks": ""
            },
            "colorscale": [
             [
              0,
              "#0d0887"
             ],
             [
              0.1111111111111111,
              "#46039f"
             ],
             [
              0.2222222222222222,
              "#7201a8"
             ],
             [
              0.3333333333333333,
              "#9c179e"
             ],
             [
              0.4444444444444444,
              "#bd3786"
             ],
             [
              0.5555555555555556,
              "#d8576b"
             ],
             [
              0.6666666666666666,
              "#ed7953"
             ],
             [
              0.7777777777777778,
              "#fb9f3a"
             ],
             [
              0.8888888888888888,
              "#fdca26"
             ],
             [
              1,
              "#f0f921"
             ]
            ],
            "type": "contour"
           }
          ],
          "contourcarpet": [
           {
            "colorbar": {
             "outlinewidth": 0,
             "ticks": ""
            },
            "type": "contourcarpet"
           }
          ],
          "heatmap": [
           {
            "colorbar": {
             "outlinewidth": 0,
             "ticks": ""
            },
            "colorscale": [
             [
              0,
              "#0d0887"
             ],
             [
              0.1111111111111111,
              "#46039f"
             ],
             [
              0.2222222222222222,
              "#7201a8"
             ],
             [
              0.3333333333333333,
              "#9c179e"
             ],
             [
              0.4444444444444444,
              "#bd3786"
             ],
             [
              0.5555555555555556,
              "#d8576b"
             ],
             [
              0.6666666666666666,
              "#ed7953"
             ],
             [
              0.7777777777777778,
              "#fb9f3a"
             ],
             [
              0.8888888888888888,
              "#fdca26"
             ],
             [
              1,
              "#f0f921"
             ]
            ],
            "type": "heatmap"
           }
          ],
          "heatmapgl": [
           {
            "colorbar": {
             "outlinewidth": 0,
             "ticks": ""
            },
            "colorscale": [
             [
              0,
              "#0d0887"
             ],
             [
              0.1111111111111111,
              "#46039f"
             ],
             [
              0.2222222222222222,
              "#7201a8"
             ],
             [
              0.3333333333333333,
              "#9c179e"
             ],
             [
              0.4444444444444444,
              "#bd3786"
             ],
             [
              0.5555555555555556,
              "#d8576b"
             ],
             [
              0.6666666666666666,
              "#ed7953"
             ],
             [
              0.7777777777777778,
              "#fb9f3a"
             ],
             [
              0.8888888888888888,
              "#fdca26"
             ],
             [
              1,
              "#f0f921"
             ]
            ],
            "type": "heatmapgl"
           }
          ],
          "histogram": [
           {
            "marker": {
             "pattern": {
              "fillmode": "overlay",
              "size": 10,
              "solidity": 0.2
             }
            },
            "type": "histogram"
           }
          ],
          "histogram2d": [
           {
            "colorbar": {
             "outlinewidth": 0,
             "ticks": ""
            },
            "colorscale": [
             [
              0,
              "#0d0887"
             ],
             [
              0.1111111111111111,
              "#46039f"
             ],
             [
              0.2222222222222222,
              "#7201a8"
             ],
             [
              0.3333333333333333,
              "#9c179e"
             ],
             [
              0.4444444444444444,
              "#bd3786"
             ],
             [
              0.5555555555555556,
              "#d8576b"
             ],
             [
              0.6666666666666666,
              "#ed7953"
             ],
             [
              0.7777777777777778,
              "#fb9f3a"
             ],
             [
              0.8888888888888888,
              "#fdca26"
             ],
             [
              1,
              "#f0f921"
             ]
            ],
            "type": "histogram2d"
           }
          ],
          "histogram2dcontour": [
           {
            "colorbar": {
             "outlinewidth": 0,
             "ticks": ""
            },
            "colorscale": [
             [
              0,
              "#0d0887"
             ],
             [
              0.1111111111111111,
              "#46039f"
             ],
             [
              0.2222222222222222,
              "#7201a8"
             ],
             [
              0.3333333333333333,
              "#9c179e"
             ],
             [
              0.4444444444444444,
              "#bd3786"
             ],
             [
              0.5555555555555556,
              "#d8576b"
             ],
             [
              0.6666666666666666,
              "#ed7953"
             ],
             [
              0.7777777777777778,
              "#fb9f3a"
             ],
             [
              0.8888888888888888,
              "#fdca26"
             ],
             [
              1,
              "#f0f921"
             ]
            ],
            "type": "histogram2dcontour"
           }
          ],
          "mesh3d": [
           {
            "colorbar": {
             "outlinewidth": 0,
             "ticks": ""
            },
            "type": "mesh3d"
           }
          ],
          "parcoords": [
           {
            "line": {
             "colorbar": {
              "outlinewidth": 0,
              "ticks": ""
             }
            },
            "type": "parcoords"
           }
          ],
          "pie": [
           {
            "automargin": true,
            "type": "pie"
           }
          ],
          "scatter": [
           {
            "fillpattern": {
             "fillmode": "overlay",
             "size": 10,
             "solidity": 0.2
            },
            "type": "scatter"
           }
          ],
          "scatter3d": [
           {
            "line": {
             "colorbar": {
              "outlinewidth": 0,
              "ticks": ""
             }
            },
            "marker": {
             "colorbar": {
              "outlinewidth": 0,
              "ticks": ""
             }
            },
            "type": "scatter3d"
           }
          ],
          "scattercarpet": [
           {
            "marker": {
             "colorbar": {
              "outlinewidth": 0,
              "ticks": ""
             }
            },
            "type": "scattercarpet"
           }
          ],
          "scattergeo": [
           {
            "marker": {
             "colorbar": {
              "outlinewidth": 0,
              "ticks": ""
             }
            },
            "type": "scattergeo"
           }
          ],
          "scattergl": [
           {
            "marker": {
             "colorbar": {
              "outlinewidth": 0,
              "ticks": ""
             }
            },
            "type": "scattergl"
           }
          ],
          "scattermapbox": [
           {
            "marker": {
             "colorbar": {
              "outlinewidth": 0,
              "ticks": ""
             }
            },
            "type": "scattermapbox"
           }
          ],
          "scatterpolar": [
           {
            "marker": {
             "colorbar": {
              "outlinewidth": 0,
              "ticks": ""
             }
            },
            "type": "scatterpolar"
           }
          ],
          "scatterpolargl": [
           {
            "marker": {
             "colorbar": {
              "outlinewidth": 0,
              "ticks": ""
             }
            },
            "type": "scatterpolargl"
           }
          ],
          "scatterternary": [
           {
            "marker": {
             "colorbar": {
              "outlinewidth": 0,
              "ticks": ""
             }
            },
            "type": "scatterternary"
           }
          ],
          "surface": [
           {
            "colorbar": {
             "outlinewidth": 0,
             "ticks": ""
            },
            "colorscale": [
             [
              0,
              "#0d0887"
             ],
             [
              0.1111111111111111,
              "#46039f"
             ],
             [
              0.2222222222222222,
              "#7201a8"
             ],
             [
              0.3333333333333333,
              "#9c179e"
             ],
             [
              0.4444444444444444,
              "#bd3786"
             ],
             [
              0.5555555555555556,
              "#d8576b"
             ],
             [
              0.6666666666666666,
              "#ed7953"
             ],
             [
              0.7777777777777778,
              "#fb9f3a"
             ],
             [
              0.8888888888888888,
              "#fdca26"
             ],
             [
              1,
              "#f0f921"
             ]
            ],
            "type": "surface"
           }
          ],
          "table": [
           {
            "cells": {
             "fill": {
              "color": "#EBF0F8"
             },
             "line": {
              "color": "white"
             }
            },
            "header": {
             "fill": {
              "color": "#C8D4E3"
             },
             "line": {
              "color": "white"
             }
            },
            "type": "table"
           }
          ]
         },
         "layout": {
          "annotationdefaults": {
           "arrowcolor": "#2a3f5f",
           "arrowhead": 0,
           "arrowwidth": 1
          },
          "autotypenumbers": "strict",
          "coloraxis": {
           "colorbar": {
            "outlinewidth": 0,
            "ticks": ""
           }
          },
          "colorscale": {
           "diverging": [
            [
             0,
             "#8e0152"
            ],
            [
             0.1,
             "#c51b7d"
            ],
            [
             0.2,
             "#de77ae"
            ],
            [
             0.3,
             "#f1b6da"
            ],
            [
             0.4,
             "#fde0ef"
            ],
            [
             0.5,
             "#f7f7f7"
            ],
            [
             0.6,
             "#e6f5d0"
            ],
            [
             0.7,
             "#b8e186"
            ],
            [
             0.8,
             "#7fbc41"
            ],
            [
             0.9,
             "#4d9221"
            ],
            [
             1,
             "#276419"
            ]
           ],
           "sequential": [
            [
             0,
             "#0d0887"
            ],
            [
             0.1111111111111111,
             "#46039f"
            ],
            [
             0.2222222222222222,
             "#7201a8"
            ],
            [
             0.3333333333333333,
             "#9c179e"
            ],
            [
             0.4444444444444444,
             "#bd3786"
            ],
            [
             0.5555555555555556,
             "#d8576b"
            ],
            [
             0.6666666666666666,
             "#ed7953"
            ],
            [
             0.7777777777777778,
             "#fb9f3a"
            ],
            [
             0.8888888888888888,
             "#fdca26"
            ],
            [
             1,
             "#f0f921"
            ]
           ],
           "sequentialminus": [
            [
             0,
             "#0d0887"
            ],
            [
             0.1111111111111111,
             "#46039f"
            ],
            [
             0.2222222222222222,
             "#7201a8"
            ],
            [
             0.3333333333333333,
             "#9c179e"
            ],
            [
             0.4444444444444444,
             "#bd3786"
            ],
            [
             0.5555555555555556,
             "#d8576b"
            ],
            [
             0.6666666666666666,
             "#ed7953"
            ],
            [
             0.7777777777777778,
             "#fb9f3a"
            ],
            [
             0.8888888888888888,
             "#fdca26"
            ],
            [
             1,
             "#f0f921"
            ]
           ]
          },
          "colorway": [
           "#636efa",
           "#EF553B",
           "#00cc96",
           "#ab63fa",
           "#FFA15A",
           "#19d3f3",
           "#FF6692",
           "#B6E880",
           "#FF97FF",
           "#FECB52"
          ],
          "font": {
           "color": "#2a3f5f"
          },
          "geo": {
           "bgcolor": "white",
           "lakecolor": "white",
           "landcolor": "#E5ECF6",
           "showlakes": true,
           "showland": true,
           "subunitcolor": "white"
          },
          "hoverlabel": {
           "align": "left"
          },
          "hovermode": "closest",
          "mapbox": {
           "style": "light"
          },
          "paper_bgcolor": "white",
          "plot_bgcolor": "#E5ECF6",
          "polar": {
           "angularaxis": {
            "gridcolor": "white",
            "linecolor": "white",
            "ticks": ""
           },
           "bgcolor": "#E5ECF6",
           "radialaxis": {
            "gridcolor": "white",
            "linecolor": "white",
            "ticks": ""
           }
          },
          "scene": {
           "xaxis": {
            "backgroundcolor": "#E5ECF6",
            "gridcolor": "white",
            "gridwidth": 2,
            "linecolor": "white",
            "showbackground": true,
            "ticks": "",
            "zerolinecolor": "white"
           },
           "yaxis": {
            "backgroundcolor": "#E5ECF6",
            "gridcolor": "white",
            "gridwidth": 2,
            "linecolor": "white",
            "showbackground": true,
            "ticks": "",
            "zerolinecolor": "white"
           },
           "zaxis": {
            "backgroundcolor": "#E5ECF6",
            "gridcolor": "white",
            "gridwidth": 2,
            "linecolor": "white",
            "showbackground": true,
            "ticks": "",
            "zerolinecolor": "white"
           }
          },
          "shapedefaults": {
           "line": {
            "color": "#2a3f5f"
           }
          },
          "ternary": {
           "aaxis": {
            "gridcolor": "white",
            "linecolor": "white",
            "ticks": ""
           },
           "baxis": {
            "gridcolor": "white",
            "linecolor": "white",
            "ticks": ""
           },
           "bgcolor": "#E5ECF6",
           "caxis": {
            "gridcolor": "white",
            "linecolor": "white",
            "ticks": ""
           }
          },
          "title": {
           "x": 0.05
          },
          "xaxis": {
           "automargin": true,
           "gridcolor": "white",
           "linecolor": "white",
           "ticks": "",
           "title": {
            "standoff": 15
           },
           "zerolinecolor": "white",
           "zerolinewidth": 2
          },
          "yaxis": {
           "automargin": true,
           "gridcolor": "white",
           "linecolor": "white",
           "ticks": "",
           "title": {
            "standoff": 15
           },
           "zerolinecolor": "white",
           "zerolinewidth": 2
          }
         }
        },
        "title": {
         "text": "總合損益圖"
        },
        "xaxis": {
         "gridcolor": "lightgray",
         "linecolor": "black",
         "linewidth": 2,
         "showgrid": true,
         "title": {
          "text": "股價"
         }
        },
        "yaxis": {
         "gridcolor": "lightgray",
         "linecolor": "black",
         "linewidth": 2,
         "showgrid": true,
         "title": {
          "text": "損益"
         }
        }
       }
      }
     },
     "metadata": {},
     "output_type": "display_data"
    }
   ],
   "source": [
    "# (2) 運用Plotly繪製策略到期損益圖\n",
    "import plotly.graph_objs as go\n",
    "def draw_PnL(data, title):\n",
    "    \n",
    "    fig = go.Figure(data)\n",
    "    #設定畫布屬性\n",
    "    fig.update_layout(\n",
    "        title=title,   #圖表標題名稱\n",
    "        xaxis_title='股價', #x軸標題\n",
    "        yaxis_title='損益', #y軸標題\n",
    "        showlegend=True,  #顯示圖例\n",
    "        plot_bgcolor='white', #底色白色\n",
    "        xaxis=dict(linecolor='black', linewidth=2),  #x軸線為黑色，寬度=2\n",
    "        yaxis=dict(linecolor='black', linewidth=2),  #y軸同上\n",
    "        xaxis_showgrid=True,  #顯示x軸格線\n",
    "        yaxis_showgrid=True,  #y軸同上\n",
    "        xaxis_gridcolor='lightgray',  #x軸格線為亮灰色\n",
    "        yaxis_gridcolor='lightgray',  #y軸同上\n",
    "        #設定0軸格線為暗灰色\n",
    "        shapes=[dict(type='line', xref='paper', x0=0, x1=1, y0=0, y1=0, line=dict(color='darkgrey', width=3))],\n",
    "    )\n",
    "    fig.show()\n",
    "    return\n",
    "def trace(profit,name_profits,color):\n",
    "    trace = go.Scatter( x=prices_range,\n",
    "                        y=profit,\n",
    "                        mode='lines',\n",
    "                        name=name_profits,\n",
    "                        line=dict(color=color)\n",
    "                        )\n",
    "    return trace\n",
    "data = [trace(stock_profits, '+S', 'gray'), trace(longCall_profits, '+C', 'red'),\n",
    "        trace(shortCall_profits, '-C', 'pink'), trace(longPut_profits, '+P', 'blue'),\n",
    "        trace(shortPut_profits, '-P', 'lightblue')]\n",
    "draw_PnL(data, '總合損益圖')"
   ]
  }
 ],
 "metadata": {
  "kernelspec": {
   "display_name": "Python 3",
   "language": "python",
   "name": "python3"
  },
  "language_info": {
   "codemirror_mode": {
    "name": "ipython",
    "version": 3
   },
   "file_extension": ".py",
   "mimetype": "text/x-python",
   "name": "python",
   "nbconvert_exporter": "python",
   "pygments_lexer": "ipython3",
   "version": "3.11.5"
  }
 },
 "nbformat": 4,
 "nbformat_minor": 2
}
