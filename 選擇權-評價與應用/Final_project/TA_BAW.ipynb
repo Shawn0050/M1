{
 "cells": [
  {
   "cell_type": "code",
   "execution_count": 3,
   "id": "2b23480b",
   "metadata": {},
   "outputs": [],
   "source": [
    "import numpy as np\n",
    "from scipy import stats"
   ]
  },
  {
   "cell_type": "code",
   "execution_count": 4,
   "id": "0c246d0c",
   "metadata": {},
   "outputs": [],
   "source": [
    "S = 105\n",
    "X = 100  # 選擇權履約價格\n",
    "t = 0.5  # 選擇權到期時間（年）\n",
    "r = 0.03  # 無風險利率\n",
    "b = 0.02  # 常數（持有成本 b=r-q）\n",
    "Sigma = 0.2  # 波動率\n",
    "_ITERATION_MAX_ERROR = 0.00001"
   ]
  },
  {
   "cell_type": "code",
   "execution_count": 5,
   "id": "68096ea7",
   "metadata": {},
   "outputs": [],
   "source": [
    "def BS_call(S, X, t, r, b, Sigma):\n",
    "    d1 = (np.log(S/X) + (b + 0.5 * Sigma**2)*t)/(Sigma * np.sqrt(t))\n",
    "    d2 = d1 - Sigma * np.sqrt(t)\n",
    "    Call = S * np.exp((b - r) * t)*stats.norm.cdf(d1,0.0,1.0) - X * np.exp(-r*t) * stats.norm.cdf(d2,0.0,1.0)\n",
    "    return Call"
   ]
  },
  {
   "attachments": {},
   "cell_type": "markdown",
   "id": "de58c2d5",
   "metadata": {},
   "source": [
    "## Newton‘s Method"
   ]
  },
  {
   "cell_type": "code",
   "execution_count": 6,
   "id": "2d07fcd5",
   "metadata": {},
   "outputs": [],
   "source": [
    "def _Kc(X, t, r, b, Sigma):\n",
    "\n",
    "    N = 2 * b / Sigma**2\n",
    "    M = 2 * r / Sigma**2\n",
    "    q2u = (-1 * (N - 1) + ((N - 1)**2 + 4 * M)**0.5) / 2  # p27.\n",
    "    su = X / (1 - 1 / q2u)                                # p27.\n",
    "    h2 = -1 * (b * t + 2 * Sigma * np.sqrt(t)) * X / (su - X)  # p31.\n",
    "    Si = X + (su - X) * (1 - np.exp(h2))                       # p31.\n",
    "\n",
    "    K = (1 - np.exp(-1 * r * t))\n",
    "    d1 = (np.log(Si / X) + (b + Sigma**2 / 2) * t) / (Sigma * np.sqrt(t))\n",
    "    q2 = (-1 * (N - 1) + ((N - 1)**2 + 4 * M / K)**0.5) / 2  # p16.\n",
    "    LHS = Si - X\n",
    "    RHS = BS_call(Si, X, t, r, b, Sigma) + (1 - np.exp((b - r) * t) * stats.norm.cdf(d1,0.0,1.0)) * Si / q2  # p23.\n",
    "    bi = np.exp((b - r) * t) * stats.norm.cdf(d1,0.0,1.0) * (1 - 1 / q2) + (1 - np.exp((b - r) * t) * stats.norm.pdf(d1,0.0,1.0) / (Sigma * np.sqrt(t))) / q2  # p25. \n",
    "\n",
    "    E = _ITERATION_MAX_ERROR\n",
    "    \n",
    "    while np.abs(LHS - RHS) / X > E:        # p26.\n",
    "        Si = (X + RHS - bi * Si) / (1 - bi) # p25.\n",
    "        d1 = (np.log(Si / X) + (b + Sigma**2 / 2) * t) / (Sigma * np.sqrt(t))\n",
    "        LHS = Si - X\n",
    "        RHS = BS_call(Si, X, t, r, b, Sigma) + (1 - np.exp((b - r) * t) * stats.norm.cdf(d1,0.0,1.0)) * Si / q2\n",
    "        bi = np.exp((b - r) * t) * stats.norm.cdf(d1,0.0,1.0) * (1 - 1 / q2) + (1 - np.exp((b - r) * t) * stats.norm.cdf(d1,0.0,1.0) / (Sigma * np.sqrt(t))) / q2\n",
    "    \n",
    "    return Si"
   ]
  },
  {
   "cell_type": "code",
   "execution_count": 7,
   "id": "3c8cebd0",
   "metadata": {},
   "outputs": [
    {
     "name": "stdout",
     "output_type": "stream",
     "text": [
      "臨界股價 S* = 331.31439799020546\n"
     ]
    }
   ],
   "source": [
    "S_star = _Kc(X, t, r, b, Sigma)\n",
    "\n",
    "print(\"臨界股價 S* =\", S_star)"
   ]
  },
  {
   "cell_type": "markdown",
   "id": "7610b2fd",
   "metadata": {},
   "source": [
    "## 使用臨界股價求出美式選擇權近似解"
   ]
  },
  {
   "cell_type": "code",
   "execution_count": 8,
   "id": "078fedb7",
   "metadata": {},
   "outputs": [],
   "source": [
    "def _approximateAmericanCall(S, X, t, r, b, Sigma):\n",
    "    '''\n",
    "    Barone-Adesi And Whaley\n",
    "    '''\n",
    "\n",
    "    if b >= r:                               # 無股利發放\n",
    "        return BS_call(S, X, t, r, b, Sigma)\n",
    "    else:                                    # 有股利發放\n",
    "        Sk = _Kc(X, t, r, b, Sigma)\n",
    "        N = 2 * b / Sigma**2\n",
    "        M = 2 * r / Sigma**2\n",
    "        K = (1 - np.exp(-1 * r * t))\n",
    "        d1 = (np.log(Sk / X) + (b + (Sigma**2) / 2) * t) / (Sigma * (t**0.5))\n",
    "        q2 = (-1 * (N - 1) + ((N - 1)**2 + 4 * M / K)**0.5) / 2\n",
    "        a2 = (Sk / q2) * (1 - np.exp((b - r) * t) * stats.norm.cdf(d1,0.0,1.0))  # P21.\n",
    "        if S < Sk:\n",
    "            return BS_call(S, X, t, r, b, Sigma) + a2 * (S / Sk)**q2  # 小於臨界股價 P21.\n",
    "        else:\n",
    "            return S - X                  "
   ]
  },
  {
   "cell_type": "code",
   "execution_count": 9,
   "id": "50a83719",
   "metadata": {},
   "outputs": [
    {
     "name": "stdout",
     "output_type": "stream",
     "text": [
      "美式買權價格 = 9.190348228253553\n"
     ]
    }
   ],
   "source": [
    "Amcall_price = _approximateAmericanCall(S, X, t, r, b, Sigma)\n",
    "print(\"美式買權價格 =\", Amcall_price)"
   ]
  },
  {
   "cell_type": "code",
   "execution_count": null,
   "id": "d9a5531b",
   "metadata": {},
   "outputs": [],
   "source": []
  }
 ],
 "metadata": {
  "kernelspec": {
   "display_name": "Python 3 (ipykernel)",
   "language": "python",
   "name": "python3"
  },
  "language_info": {
   "codemirror_mode": {
    "name": "ipython",
    "version": 3
   },
   "file_extension": ".py",
   "mimetype": "text/x-python",
   "name": "python",
   "nbconvert_exporter": "python",
   "pygments_lexer": "ipython3",
   "version": "3.11.5"
  }
 },
 "nbformat": 4,
 "nbformat_minor": 5
}
