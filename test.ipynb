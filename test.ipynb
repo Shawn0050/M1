{
 "cells": [
  {
   "cell_type": "code",
   "execution_count": 5,
   "metadata": {},
   "outputs": [
    {
     "name": "stdout",
     "output_type": "stream",
     "text": [
      "自我相關係數： 0.27533524158787237\n"
     ]
    }
   ],
   "source": [
    "import pandas as pd\n",
    "import numpy as np\n",
    "# 創建一個模型生成的時間序列\n",
    "np.random.seed(100)\n",
    "e = np.random.randn(1000)\n",
    "yt = pd.Series(np.cumsum(e))\n",
    "\n",
    "# 計算自我相關係數\n",
    "autocorr = yt.autocorr(lag = 100)\n",
    "print(\"自我相關係數：\", autocorr)"
   ]
  }
 ],
 "metadata": {
  "kernelspec": {
   "display_name": "Python 3",
   "language": "python",
   "name": "python3"
  },
  "language_info": {
   "codemirror_mode": {
    "name": "ipython",
    "version": 3
   },
   "file_extension": ".py",
   "mimetype": "text/x-python",
   "name": "python",
   "nbconvert_exporter": "python",
   "pygments_lexer": "ipython3",
   "version": "3.11.5"
  }
 },
 "nbformat": 4,
 "nbformat_minor": 2
}
