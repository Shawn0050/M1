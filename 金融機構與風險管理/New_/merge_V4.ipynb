{
 "cells": [
  {
   "cell_type": "code",
   "execution_count": 2,
   "metadata": {},
   "outputs": [],
   "source": [
    "import pandas as pd\n",
    "\n",
    "# 讀取財務比例數據，並優先排除超過\n",
    "financial_ratio = pd.read_csv('/Users/shawn/Github/M1/金融機構與風險管理/New_/S_P500 財務比率_rename_V2.csv')\n",
    "def remove_columns_with_high_missing_ratio(df, threshold=0.10):\n",
    "    # 計算每個col缺失值比例\n",
    "    missing_ratio = df.isnull().mean()\n",
    "    columns_to_drop = missing_ratio[missing_ratio > threshold].index\n",
    "    df_dropped = df.drop(columns=columns_to_drop)\n",
    "\n",
    "    return df_dropped\n",
    "financial_ratio  = remove_columns_with_high_missing_ratio(financial_ratio, threshold=0.10)\n"
   ]
  },
  {
   "cell_type": "code",
   "execution_count": 3,
   "metadata": {},
   "outputs": [],
   "source": [
    "# 讀取rating資料，並更新日期格式\n",
    "rating = pd.read_csv('/Users/shawn/Github/M1/金融機構與風險管理/New_/rating.csv')\n",
    "\n",
    "financial_ratio['datadate'] = pd.to_datetime(financial_ratio['datadate'], format='%Y/%m/%d')\n",
    "financial_ratio['datadate'] = financial_ratio['datadate'].dt.strftime('%Y-%m-%d')\n",
    "\n",
    "\n",
    "rating['datadate'] = pd.to_datetime(rating['datadate'], format='%Y-%m-%d')\n",
    "rating['datadate'] = rating['datadate'].dt.strftime('%Y-%m-%d')"
   ]
  },
  {
   "cell_type": "code",
   "execution_count": 4,
   "metadata": {},
   "outputs": [
    {
     "name": "stdout",
     "output_type": "stream",
     "text": [
      "        datadate ticker splticrm\n",
      "3137  2010-01-31    AMD       B-\n",
      "3138  2010-02-28    AMD       B-\n",
      "3139  2010-03-31    AMD       B-\n",
      "3140  2010-04-30    AMD       B-\n",
      "3141  2010-05-31    AMD       B-\n",
      "       datadate ticker splticrm\n",
      "388  2001-01-31    AMD        B\n",
      "389  2001-02-28    AMD        B\n",
      "390  2001-03-31    AMD        B\n",
      "391  2001-04-30    AMD        B\n",
      "392  2001-05-31    AMD        B\n"
     ]
    }
   ],
   "source": [
    "merged_df = pd.merge(financial_ratio, rating[['datadate', 'ticker', 'splticrm']], on=['datadate', 'ticker'], how='left')\n",
    "# merged_df['dividend yield'] = merged_df['dividend yield'].str.rstrip('%').astype('float') / 100\n",
    "\n",
    "\n",
    "print(merged_df[merged_df['ticker'] == 'AMD'][['datadate','ticker','splticrm']].head()) \n",
    "print(rating[rating['ticker'] == 'AMD'][['datadate','ticker','splticrm']].head()) "
   ]
  },
  {
   "cell_type": "code",
   "execution_count": 5,
   "metadata": {},
   "outputs": [],
   "source": [
    "# 以插值法填入\n",
    "def fill_missing_values_with_interpolation(df, group_col):\n",
    "    df_filled = df.groupby(group_col).apply(\n",
    "        lambda group: group.interpolate(method='linear').round(3)\n",
    "    ).reset_index(drop=True)\n",
    "    return df_filled\n",
    "merged_df = fill_missing_values_with_interpolation(merged_df, 'ticker')\n"
   ]
  },
  {
   "cell_type": "code",
   "execution_count": 6,
   "metadata": {},
   "outputs": [],
   "source": [
    "# financial_ratio, rating期間範圍無對齊\n",
    "merged_df.dropna(subset=['splticrm'], inplace=True)\n",
    "def filter_rows(group):\n",
    "    # 組內rating前後不同的才會被留下\n",
    "    mask = group['splticrm'] != group['splticrm'].shift()\n",
    "    return group[mask]\n",
    "merged_df = merged_df.groupby('ticker').apply(filter_rows).reset_index(drop=True)\n",
    "merged_df['ticker'].value_counts().to_frame() \n",
    "merged_df = fill_missing_values_with_interpolation(merged_df, 'ticker')\n"
   ]
  },
  {
   "cell_type": "code",
   "execution_count": 7,
   "metadata": {},
   "outputs": [
    {
     "name": "stdout",
     "output_type": "stream",
     "text": [
      "668\n"
     ]
    }
   ],
   "source": [
    "# merged_df保留了所有ticker\n",
    "merged_df2 = merged_df.groupby('ticker').filter(lambda x: len(x) > 1)\n",
    "print(len(merged_df2))\n",
    "\n",
    "merged_df2 = fill_missing_values_with_interpolation(merged_df2, 'ticker')"
   ]
  },
  {
   "cell_type": "code",
   "execution_count": 8,
   "metadata": {},
   "outputs": [],
   "source": [
    "ratings_map = {\n",
    "    'D': 0, 'CC': 1, 'CCC': 2, 'CCC+': 3,\n",
    "    'B-': 5, 'B': 6, 'B+': 7, 'BB-': 8, 'BB': 9, 'BB+': 10,\n",
    "    'BBB-': 12, 'BBB': 14, 'BBB+': 16,\n",
    "    'A-': 19, 'A': 22, 'A+': 25, 'AA-': 28, 'AA': 32, 'AA+': 36, 'AAA': 40\n",
    "}\n",
    "\n",
    "# 將評級參數化\n",
    "merged_df2['rating'] = merged_df2['splticrm'].map(ratings_map)"
   ]
  },
  {
   "cell_type": "code",
   "execution_count": 9,
   "metadata": {},
   "outputs": [],
   "source": [
    "def process_data(group):\n",
    "    # 保留前一期的評價\n",
    "    group['prev_rating'] = group['rating'].shift(1)\n",
    "    group['rating_diff'] = group['rating'] - group['rating'].shift(1)\n",
    "    # 變化率\n",
    "    for col in group.columns:\n",
    "        if pd.api.types.is_numeric_dtype(group[col]):\n",
    "            group[col + '_change'] = group[col].pct_change()\n",
    "\n",
    "    # 刪除前一期評價(prev_rating)\n",
    "    # group = group[group['is_upgraded'] == 1].drop(columns=['prev_rating'])\n",
    "    group = group.dropna(subset=['prev_rating'])\n",
    "\n",
    "    return group"
   ]
  },
  {
   "cell_type": "code",
   "execution_count": 10,
   "metadata": {},
   "outputs": [],
   "source": [
    "import numpy as np\n",
    "merged_df3 = merged_df2.groupby('ticker').apply(process_data).reset_index(drop=True)\n",
    "# 再次處理缺失值與inf\n",
    "merged_df3 = fill_missing_values_with_interpolation(merged_df3, 'ticker')\n",
    "cols_with_inf = merged_df3.columns.to_series()[merged_df3.isin([np.inf, -np.inf]).any()]\n",
    "merged_df3 = merged_df3.drop(cols_with_inf.index, axis=1)\n",
    "merged_df3 = fill_missing_values_with_interpolation(merged_df3, 'ticker')\n",
    "merged_df3 = merged_df3.dropna().reset_index(drop=True)\n",
    "\n",
    "\n"
   ]
  },
  {
   "cell_type": "code",
   "execution_count": 11,
   "metadata": {},
   "outputs": [],
   "source": [
    "merged_df3.to_csv('/Users/shawn/Github/M1/金融機構與風險管理/New_/SP500_change_V5_rename.csv')"
   ]
  },
  {
   "cell_type": "code",
   "execution_count": 13,
   "metadata": {},
   "outputs": [
    {
     "name": "stdout",
     "output_type": "stream",
     "text": [
      "58\n"
     ]
    }
   ],
   "source": [
    "# 隨機抽樣\n",
    "\n",
    "# 70-30 training-testing data\n",
    "train_df70 = merged_df3.sample(frac=0.7, random_state=73)  # random_state 紀錄結果\n",
    "test_df30 = merged_df3.drop(train_df70.index)\n",
    "\n",
    "# 60-40 training-testing data\n",
    "train_df60 = merged_df3.sample(frac=0.6, random_state=64)  # random_state 紀錄結果\n",
    "test_df40 = merged_df3.drop(train_df60.index)\n",
    "\n",
    "train_df70.to_csv('/Users/shawn/Github/M1/金融機構與風險管理/New_/train_df70.csv')\n",
    "test_df30.to_csv('/Users/shawn/Github/M1/金融機構與風險管理/New_/test_df30.csv')\n",
    "train_df60.to_csv('/Users/shawn/Github/M1/金融機構與風險管理/New_/train_df60.csv')\n",
    "test_df40.to_csv('/Users/shawn/Github/M1/金融機構與風險管理/New_/test_df40.csv')\n",
    "\n",
    "print(len(test_df30))\n",
    "\n"
   ]
  }
 ],
 "metadata": {
  "kernelspec": {
   "display_name": "Python 3",
   "language": "python",
   "name": "python3"
  },
  "language_info": {
   "codemirror_mode": {
    "name": "ipython",
    "version": 3
   },
   "file_extension": ".py",
   "mimetype": "text/x-python",
   "name": "python",
   "nbconvert_exporter": "python",
   "pygments_lexer": "ipython3",
   "version": "3.11.5"
  }
 },
 "nbformat": 4,
 "nbformat_minor": 2
}
