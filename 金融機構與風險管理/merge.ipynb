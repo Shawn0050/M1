{
 "cells": [
  {
   "cell_type": "code",
   "execution_count": 68,
   "metadata": {},
   "outputs": [],
   "source": [
    "import pandas as pd\n",
    "\n",
    "# 读取数据\n",
    "financial_ratio = pd.read_csv('/Users/shawn/Github/M1/金融機構與風險管理/S_P500 財務比率.csv')\n",
    "rating = pd.read_csv('/Users/shawn/Github/M1/金融機構與風險管理/rating.csv')\n",
    "\n",
    "financial_ratio['datadate'] = pd.to_datetime(financial_ratio['datadate'], format='%Y/%m/%d')\n",
    "financial_ratio['datadate'] = financial_ratio['datadate'].dt.strftime('%Y-%m-%d')\n",
    "\n",
    "\n",
    "rating['datadate'] = pd.to_datetime(rating['datadate'], format='%Y-%m-%d')\n",
    "rating['datadate'] = rating['datadate'].dt.strftime('%Y-%m-%d')"
   ]
  },
  {
   "cell_type": "code",
   "execution_count": 69,
   "metadata": {},
   "outputs": [
    {
     "name": "stdout",
     "output_type": "stream",
     "text": [
      "         datadate ticker splticrm\n",
      "31998  2010-01-31    AMD       B-\n",
      "31999  2010-02-28    AMD       B-\n",
      "32000  2010-03-31    AMD       B-\n",
      "32001  2010-04-30    AMD       B-\n",
      "32002  2010-05-31    AMD       B-\n",
      "       datadate ticker splticrm\n",
      "388  2001-01-31    AMD        B\n",
      "389  2001-02-28    AMD        B\n",
      "390  2001-03-31    AMD        B\n",
      "391  2001-04-30    AMD        B\n",
      "392  2001-05-31    AMD        B\n"
     ]
    }
   ],
   "source": [
    "merged_df = pd.merge(financial_ratio, rating[['datadate', 'ticker', 'splticrm']], on=['datadate', 'ticker'], how='left')\n",
    "merged_df['splticrm']\n",
    "\n",
    "\n",
    "print(merged_df[merged_df['ticker'] == 'AMD'][['datadate','ticker','splticrm']].head()) \n",
    "print(rating[rating['ticker'] == 'AMD'][['datadate','ticker','splticrm']].head()) "
   ]
  },
  {
   "cell_type": "code",
   "execution_count": 73,
   "metadata": {},
   "outputs": [
    {
     "data": {
      "text/html": [
       "<div>\n",
       "<style scoped>\n",
       "    .dataframe tbody tr th:only-of-type {\n",
       "        vertical-align: middle;\n",
       "    }\n",
       "\n",
       "    .dataframe tbody tr th {\n",
       "        vertical-align: top;\n",
       "    }\n",
       "\n",
       "    .dataframe thead th {\n",
       "        text-align: right;\n",
       "    }\n",
       "</style>\n",
       "<table border=\"1\" class=\"dataframe\">\n",
       "  <thead>\n",
       "    <tr style=\"text-align: right;\">\n",
       "      <th></th>\n",
       "      <th>count</th>\n",
       "    </tr>\n",
       "    <tr>\n",
       "      <th>ticker</th>\n",
       "      <th></th>\n",
       "    </tr>\n",
       "  </thead>\n",
       "  <tbody>\n",
       "    <tr>\n",
       "      <th>CHK</th>\n",
       "      <td>12</td>\n",
       "    </tr>\n",
       "    <tr>\n",
       "      <th>AKS</th>\n",
       "      <td>7</td>\n",
       "    </tr>\n",
       "    <tr>\n",
       "      <th>ETFC</th>\n",
       "      <td>7</td>\n",
       "    </tr>\n",
       "    <tr>\n",
       "      <th>M</th>\n",
       "      <td>7</td>\n",
       "    </tr>\n",
       "    <tr>\n",
       "      <th>DO</th>\n",
       "      <td>7</td>\n",
       "    </tr>\n",
       "    <tr>\n",
       "      <th>...</th>\n",
       "      <td>...</td>\n",
       "    </tr>\n",
       "    <tr>\n",
       "      <th>JNJ</th>\n",
       "      <td>1</td>\n",
       "    </tr>\n",
       "    <tr>\n",
       "      <th>KEY</th>\n",
       "      <td>1</td>\n",
       "    </tr>\n",
       "    <tr>\n",
       "      <th>KMB</th>\n",
       "      <td>1</td>\n",
       "    </tr>\n",
       "    <tr>\n",
       "      <th>KR</th>\n",
       "      <td>1</td>\n",
       "    </tr>\n",
       "    <tr>\n",
       "      <th>JNPR</th>\n",
       "      <td>1</td>\n",
       "    </tr>\n",
       "  </tbody>\n",
       "</table>\n",
       "<p>315 rows × 1 columns</p>\n",
       "</div>"
      ],
      "text/plain": [
       "        count\n",
       "ticker       \n",
       "CHK        12\n",
       "AKS         7\n",
       "ETFC        7\n",
       "M           7\n",
       "DO          7\n",
       "...       ...\n",
       "JNJ         1\n",
       "KEY         1\n",
       "KMB         1\n",
       "KR          1\n",
       "JNPR        1\n",
       "\n",
       "[315 rows x 1 columns]"
      ]
     },
     "execution_count": 73,
     "metadata": {},
     "output_type": "execute_result"
    }
   ],
   "source": [
    "# financial_ratio, rating期間範圍無對齊\n",
    "merged_df.dropna(subset=['splticrm'], inplace=True)\n",
    "def filter_rows(group):\n",
    "    # 組內rating前後不同的才會被留下\n",
    "    mask = group['splticrm'] != group['splticrm'].shift()\n",
    "    return group[mask]\n",
    "merged_df = merged_df.groupby('ticker').apply(filter_rows).reset_index(drop=True)\n",
    "merged_df['ticker'].value_counts().to_frame() \n"
   ]
  },
  {
   "cell_type": "code",
   "execution_count": 77,
   "metadata": {},
   "outputs": [
    {
     "name": "stdout",
     "output_type": "stream",
     "text": [
      "        count\n",
      "ticker       \n",
      "CHK        12\n",
      "ETFC        7\n",
      "DO          7\n",
      "AKS         7\n",
      "M           7\n",
      "...       ...\n",
      "OKE         2\n",
      "D           2\n",
      "ODP         2\n",
      "DD          2\n",
      "PEG         2\n",
      "\n",
      "[225 rows x 1 columns]\n",
      "668\n"
     ]
    }
   ],
   "source": [
    "# merged_df保留了所有ticker\n",
    "merged_df2 = merged_df.groupby('ticker').filter(lambda x: len(x) > 1)\n",
    "print(merged_df2['ticker'].value_counts().to_frame())\n",
    "print(len(merged_df2))\n",
    "merged_df2.to_csv('SP500_merge.csv')"
   ]
  }
 ],
 "metadata": {
  "kernelspec": {
   "display_name": "Python 3",
   "language": "python",
   "name": "python3"
  },
  "language_info": {
   "codemirror_mode": {
    "name": "ipython",
    "version": 3
   },
   "file_extension": ".py",
   "mimetype": "text/x-python",
   "name": "python",
   "nbconvert_exporter": "python",
   "pygments_lexer": "ipython3",
   "version": "3.11.5"
  }
 },
 "nbformat": 4,
 "nbformat_minor": 2
}
