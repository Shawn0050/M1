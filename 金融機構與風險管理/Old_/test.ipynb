{
 "cells": [
  {
   "cell_type": "code",
   "execution_count": 14,
   "metadata": {},
   "outputs": [
    {
     "name": "stdout",
     "output_type": "stream",
     "text": [
      "  ticker  value rating  value_change prev_rating  is_upgraded\n",
      "0   AAPL     10    BBB           NaN        None            0\n",
      "1   AAPL     20     A-          1.00         BBB            1\n",
      "2   AAPL     30    BBB          0.50          A-            0\n",
      "3    AMD     40    BBB           NaN        None            0\n",
      "4    AMD     50     A-          0.25         BBB            1\n",
      "5    AMD     60     A+          0.20          A-            1\n"
     ]
    }
   ],
   "source": [
    "import pandas as pd\n",
    "\n",
    "def process_data(group):\n",
    "    # 定义评级的顺序\n",
    "    rating_order = ['BBB', 'A-', 'A', 'A+', 'AA-', 'AA', 'AA+', 'AAA']\n",
    "\n",
    "    # 计算是否升评\n",
    "    def is_upgraded(row, prev_row):\n",
    "        if prev_row is not None and row['rating'] in rating_order and prev_row['rating'] in rating_order:\n",
    "            return 1 if rating_order.index(row['rating']) > rating_order.index(prev_row['rating']) else 0\n",
    "        return 0\n",
    "\n",
    "    # 计算变化率\n",
    "    group['value_change'] = group['value'].pct_change()\n",
    "\n",
    "    # 使用 shift 处理前一行\n",
    "    group['prev_rating'] = group['rating'].shift(1)\n",
    "    \n",
    "    # 判断是否升级\n",
    "    group['is_upgraded'] = group.apply(lambda row: is_upgraded(row, {'rating': row['prev_rating']}), axis=1)\n",
    "    # for col in group.columns:\n",
    "    #     if pd.api.types.is_numeric_dtype(group[col]):\n",
    "    #         group[col + '_change'] = group[col].pct_change()\n",
    "    # 删除无变化的行和临时列\n",
    "    # group = group[group['is_upgraded'] == 1].drop(columns=['prev_rating'])\n",
    "\n",
    "    return group\n",
    "\n",
    "# 示例数据\n",
    "data = {\n",
    "    'ticker': ['AAPL', 'AAPL', 'AAPL', 'AMD', 'AMD', 'AMD'],\n",
    "    'value': [10, 20, 30, 40, 50, 60],\n",
    "    'rating': ['BBB', 'A-', 'BBB', 'BBB', 'A-', 'A+']\n",
    "}\n",
    "\n",
    "df = pd.DataFrame(data)\n",
    "\n",
    "# 应用函数到每个 ticker 组\n",
    "processed_df = df.groupby('ticker').apply(process_data).reset_index(drop=True)\n",
    "\n",
    "# 显示结果\n",
    "print(processed_df)"
   ]
  }
 ],
 "metadata": {
  "kernelspec": {
   "display_name": "Python 3",
   "language": "python",
   "name": "python3"
  },
  "language_info": {
   "codemirror_mode": {
    "name": "ipython",
    "version": 3
   },
   "file_extension": ".py",
   "mimetype": "text/x-python",
   "name": "python",
   "nbconvert_exporter": "python",
   "pygments_lexer": "ipython3",
   "version": "3.11.5"
  }
 },
 "nbformat": 4,
 "nbformat_minor": 2
}
