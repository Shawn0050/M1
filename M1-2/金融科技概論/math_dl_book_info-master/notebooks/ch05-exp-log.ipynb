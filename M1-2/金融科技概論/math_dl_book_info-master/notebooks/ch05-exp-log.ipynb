{
 "cells": [
  {
   "cell_type": "markdown",
   "metadata": {
    "collapsed": true
   },
   "source": [
    "# 5章　対数関数と指数関数"
   ]
  },
  {
   "cell_type": "code",
   "execution_count": null,
   "metadata": {},
   "outputs": [],
   "source": [
    "# 必要ライブラリの宣言\n",
    "import numpy as np\n",
    "import matplotlib.pyplot as plt"
   ]
  },
  {
   "cell_type": "code",
   "execution_count": null,
   "metadata": {},
   "outputs": [],
   "source": [
    "# fig05-01\n",
    "#　指数関数のグラフ\n",
    "x = np.linspace(-2, 2, 200)\n",
    "y = 2**x\n",
    "x1 = np.linspace(-2, 2, 9)\n",
    "y1 = 2**x1\n",
    "plt.figure(figsize=(8,8))\n",
    "plt.plot(x, y, c='b')\n",
    "plt.xticks(size=18)\n",
    "plt.yticks(size=18)\n",
    "plt.grid(which='major',linestyle='-', lw=2)\n",
    "plt.scatter(x1, y1, s=50, c='k')\n",
    "plt.xlabel(\"$x$\", fontsize=20) \n",
    "plt.ylabel(\"$2^x$\", fontsize=20)\n",
    "plt.show()"
   ]
  },
  {
   "cell_type": "code",
   "execution_count": null,
   "metadata": {},
   "outputs": [],
   "source": [
    "# fig05-02\n",
    "# 指数関数のグラフ　その2\n",
    "x = np.linspace(-2, 2, 200)\n",
    "y = (1/2)**x\n",
    "x1 = np.linspace(-2, 2, 9)\n",
    "y1 = (1/2)**x1\n",
    "plt.figure(figsize=(8,8))\n",
    "plt.plot(x, y, c='b')\n",
    "plt.scatter(x1, y1, s=50, c='k')\n",
    "plt.xticks(size=18)\n",
    "plt.yticks(size=18)\n",
    "plt.grid(which='major',linestyle='-', lw=2)\n",
    "plt.xlabel(\"$x$\", fontsize=20) \n",
    "plt.ylabel(r'$\\left(\\frac{1}{2}\\right)^x$', fontsize=20)\n",
    "plt.show()"
   ]
  },
  {
   "cell_type": "code",
   "execution_count": null,
   "metadata": {},
   "outputs": [],
   "source": [
    "# fig05-05\n",
    "# 対数のグラフ\n",
    "x = np.linspace(0, 4, 200)\n",
    "xx = np.linspace(-2, 2, 200)\n",
    "x0 = np.delete(x, 0)\n",
    "y0 = np.log2(x0)\n",
    "x1 = np.linspace(0, 4, 9)\n",
    "x2 = np.delete(x1, 0)\n",
    "y2 = np.log2(x2)\n",
    "plt.figure(figsize=(8,8))\n",
    "plt.plot(x0, y0, c='b', label='$y=\\log_{2}x$',lw=2)\n",
    "plt.plot(xx, 2**xx, c='k', label='$y=2^x$',lw=2)\n",
    "plt.plot([-2,4],[-2,4], linestyle='-.', label='$y=x$', lw=2)\n",
    "plt.plot([-2,4],[0,0],lw=2,c='k')\n",
    "plt.plot([0,0],[-2,4],lw=2,c='k')\n",
    "plt.scatter(x2, y2, s=50, c='b')\n",
    "plt.scatter(y2, x2, s=30, c='k')\n",
    "plt.xticks(size=20)\n",
    "plt.yticks(size=20)\n",
    "plt.ylim(-2,4)\n",
    "plt.grid(which='major',linestyle='-',lw=2)\n",
    "plt.xlabel(\"$x$\", fontsize=18) \n",
    "plt.ylabel(\"$y$\", fontsize=18)\n",
    "plt.legend(fontsize=18)\n",
    "plt.show()"
   ]
  },
  {
   "cell_type": "code",
   "execution_count": null,
   "metadata": {},
   "outputs": [],
   "source": [
    "# 対数関数の応用\n",
    "sell_list = [[9984, 8901004], [9987, 2126993], [9983, 1861917], [1333, 873295], [1332, 635953], \n",
    "             [9989, 528394], [1417, 283236], [1301, 236561], [9974, 193566], [9994, 167334], \n",
    "             [1419, 157001], [9997, 146083], [9993, 114111], [9977, 105954], [1413, 105007], \n",
    "             [9991, 98729], [9982, 77952], [9995, 77581], [1352, 73761], [9979, 63957], \n",
    "             [1379, 63119], [1377, 61844], [1376, 57848], [9990, 56747], [1420, 55504], \n",
    "             [1414, 53250], [9996, 48505], [9967, 34353], [9976, 33591], [1407, 32753], \n",
    "             [9978, 29919], [9966, 21387], [1430, 20948], [1418, 19082], [1381, 18802], \n",
    "             [1429, 18052], [1384, 15982], [9972, 15173], [9980, 13401], [1408, 10599], \n",
    "             [9969, 8791], [9992, 7281], [9986, 6944], [9973, 5420], [1380, 5399], \n",
    "             [1383, 4623], [1431, 3765], [1382, 3722], [1401, 2660], [1400, 2355]]"
   ]
  },
  {
   "cell_type": "code",
   "execution_count": null,
   "metadata": {},
   "outputs": [],
   "source": [
    "import numpy as np\n",
    "import matplotlib.pyplot as plt\n",
    "sell_np = np.array(sell_list)"
   ]
  },
  {
   "cell_type": "code",
   "execution_count": null,
   "metadata": {},
   "outputs": [],
   "source": [
    "sell_np = np.array(sell_list)\n",
    "index = range(sell_np.shape[0])\n",
    "sc_label = ['' for x in sell_np[:,1]]"
   ]
  },
  {
   "cell_type": "code",
   "execution_count": null,
   "metadata": {},
   "outputs": [],
   "source": [
    "# fig05-06\n",
    "# 通常スケールでの棒グラフ\n",
    "plt.figure(figsize=(10,6))\n",
    "plt.bar(index,sell_np[:,1], tick_label=sc_label, color='b')\n",
    "#plt.bar(index,sell_np[:,1], color='b')\n",
    "plt.grid(lw=2)\n",
    "plt.xticks([])\n",
    "plt.yticks(size=16)\n",
    "plt.show()"
   ]
  },
  {
   "cell_type": "code",
   "execution_count": null,
   "metadata": {
    "scrolled": true
   },
   "outputs": [],
   "source": [
    "# fig-5-07\n",
    "# logスケールでの棒グラフ\n",
    "plt.figure(figsize=(10,6))\n",
    "plt.bar(index, np.log(sell_np[:,1]), tick_label=sc_label, color='b')\n",
    "plt.ylim(7,17)\n",
    "plt.grid(lw=2)\n",
    "plt.xticks([])\n",
    "plt.yticks(size=16)\n",
    "plt.show()"
   ]
  },
  {
   "cell_type": "markdown",
   "metadata": {},
   "source": [
    "# コラム　ネイピア数"
   ]
  },
  {
   "cell_type": "code",
   "execution_count": null,
   "metadata": {},
   "outputs": [],
   "source": [
    "import numpy as np\n",
    "np.set_printoptions(precision=10)\n",
    "x = np.logspace(0, 11, 12, base=0.1, dtype='float64')\n",
    "y = np.power(1+x, 1/x)\n",
    "for i in range(11):\n",
    "    print( 'x = %12.10f y = %12.10f' % (x[i], y[i]))"
   ]
  },
  {
   "cell_type": "markdown",
   "metadata": {},
   "source": [
    "# 対数グラフの重ね書き"
   ]
  },
  {
   "cell_type": "code",
   "execution_count": null,
   "metadata": {},
   "outputs": [],
   "source": [
    "xx =  np.linspace(0.2, 2.0, 100)\n",
    "yy1 = np.log(xx) / np.log(2.0)\n",
    "yy2 = np.log(xx)\n",
    "yy3 = np.log(xx) / np.log(6.0)"
   ]
  },
  {
   "cell_type": "code",
   "execution_count": null,
   "metadata": {},
   "outputs": [],
   "source": [
    "# fig05-09\n",
    "plt.figure(figsize=(6,6))\n",
    "plt.ylim(-1.0, 1.0)\n",
    "plt.xlim(0.2, 2.0)\n",
    "plt.xlabel('$x$', fontsize=18)\n",
    "plt.ylabel('$y$',fontsize=18)\n",
    "plt.grid(lw=2)\n",
    "plt.plot([0.2,2.0], [-0.8,1.0],  lw=2, c='black')\n",
    "plt.plot(xx, yy1, linestyle='dotted', c='black',lw=2, label='$log_{2}x$')\n",
    "plt.plot(xx, yy2, linestyle='solid', c='b', lw=2, label='$log_{e}x$')\n",
    "plt.plot(xx, yy3, linestyle='dashed', c='black',lw=2, label='$log_{6}x$')\n",
    "plt.scatter(1.0, 0.0, s=50)\n",
    "plt.xticks(size=16)\n",
    "plt.yticks(size=16)\n",
    "plt.legend(fontsize=18)\n",
    "plt.show()"
   ]
  },
  {
   "cell_type": "markdown",
   "metadata": {},
   "source": [
    "# シグモイド関数"
   ]
  },
  {
   "cell_type": "code",
   "execution_count": null,
   "metadata": {},
   "outputs": [],
   "source": [
    "xx =  np.linspace(-6, 6, 500)\n",
    "yy = 1 / (np.exp(-xx) + 1)"
   ]
  },
  {
   "cell_type": "code",
   "execution_count": null,
   "metadata": {},
   "outputs": [],
   "source": [
    "# fig05-10\n",
    "plt.figure(figsize=(8,6))\n",
    "plt.ylim(0.0, 1.0)\n",
    "plt.xlim(-6, 6)\n",
    "plt.xlabel('x', fontsize=18)\n",
    "plt.ylabel('y', fontsize=18)\n",
    "plt.xticks(size=18)\n",
    "plt.yticks(size=18)\n",
    "plt.grid(lw=2)\n",
    "plt.plot(xx, yy, c='b',lw=2, label=r'$\\frac{1}{1+\\exp{(-x)}}$')\n",
    "plt.legend(fontsize=20)\n",
    "plt.show()"
   ]
  },
  {
   "cell_type": "code",
   "execution_count": null,
   "metadata": {},
   "outputs": [],
   "source": [
    "plt.figure(figsize=(8,6))\n",
    "plt.ylim(-3, 3)\n",
    "plt.xlim(-3, 3)\n",
    "plt.xticks(np.linspace(-3,3,13))\n",
    "plt.yticks(np.linspace(-3,3,13))\n",
    "plt.xlabel('x', fontsize=14)\n",
    "plt.ylabel('y', fontsize=14)\n",
    "plt.xticks(size=16)\n",
    "plt.yticks(size=16)\n",
    "plt.grid()\n",
    "plt.plot(xx, yy, c='b', label=r'$\\dfrac{1}{1+\\exp{(-x)}}$', lw=1)\n",
    "plt.plot(xx, xx, c='k', label=r'$y = x$', lw=1)\n",
    "plt.plot([-3,3], [0,0], c='k')\n",
    "plt.plot([0,0], [-3,3],c='k')\n",
    "plt.plot([-3,3],[1,1],linestyle='-.',c='k')\n",
    "plt.legend(fontsize=18)\n",
    "plt.show()"
   ]
  }
 ],
 "metadata": {
  "kernelspec": {
   "display_name": "Python 3 (ipykernel)",
   "language": "python",
   "name": "python3"
  },
  "language_info": {
   "codemirror_mode": {
    "name": "ipython",
    "version": 3
   },
   "file_extension": ".py",
   "mimetype": "text/x-python",
   "name": "python",
   "nbconvert_exporter": "python",
   "pygments_lexer": "ipython3",
   "version": "3.9.7"
  }
 },
 "nbformat": 4,
 "nbformat_minor": 1
}
