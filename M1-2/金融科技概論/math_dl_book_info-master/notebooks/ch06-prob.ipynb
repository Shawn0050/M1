{
 "cells": [
  {
   "cell_type": "markdown",
   "metadata": {},
   "source": [
    "# 6章　確率統計"
   ]
  },
  {
   "cell_type": "code",
   "execution_count": null,
   "metadata": {},
   "outputs": [],
   "source": [
    "# 必要ライブラリのロード\n",
    "import numpy as np\n",
    "import scipy.special as scm\n",
    "import  matplotlib.pyplot as plt"
   ]
  },
  {
   "cell_type": "markdown",
   "metadata": {},
   "source": [
    "## ヒストグラムの描画"
   ]
  },
  {
   "cell_type": "markdown",
   "metadata": {},
   "source": [
    "### N=2の場合\n",
    "図6-1"
   ]
  },
  {
   "cell_type": "code",
   "execution_count": null,
   "metadata": {},
   "outputs": [],
   "source": [
    "N = 2\n",
    "M = 2**N\n",
    "X = range(N+1)\n",
    "plt.bar(X, [scm.comb(N, i)/M for i in X])\n",
    "plt.xticks(X, [str(i) for i in X])\n",
    "plt.show()"
   ]
  },
  {
   "cell_type": "markdown",
   "metadata": {},
   "source": [
    "###  N=3の場合\n",
    "図6-2"
   ]
  },
  {
   "cell_type": "code",
   "execution_count": null,
   "metadata": {},
   "outputs": [],
   "source": [
    "N = 3\n",
    "M = 2**N\n",
    "X = range(N+1)\n",
    "plt.bar(X, [scm.comb(N, i)/M for i in X])\n",
    "plt.xticks(X, [str(i) for i in X])\n",
    "plt.yticks(np.arange(0,0.405,0.05))\n",
    "plt.show()"
   ]
  },
  {
   "cell_type": "markdown",
   "metadata": {},
   "source": [
    "### N=4の場合\n",
    "図6-3"
   ]
  },
  {
   "cell_type": "code",
   "execution_count": null,
   "metadata": {},
   "outputs": [],
   "source": [
    "N = 4\n",
    "M = 2**N\n",
    "X = range(N+1)\n",
    "plt.bar(X, [scm.comb(N, i)/M for i in X])\n",
    "plt.xticks(X, [str(i) for i in X])\n",
    "plt.yticks(np.arange(0,0.405,0.05))\n",
    "plt.show()"
   ]
  },
  {
   "cell_type": "markdown",
   "metadata": {},
   "source": [
    "### N=10の場合\n",
    "図6-4"
   ]
  },
  {
   "cell_type": "code",
   "execution_count": null,
   "metadata": {},
   "outputs": [],
   "source": [
    "N = 10\n",
    "M = 2**N\n",
    "X = range(N+1)\n",
    "plt.bar(X, [scm.comb(N, i)/M for i in X])\n",
    "plt.xticks(X, [str(i) for i in X])\n",
    "plt.show()"
   ]
  },
  {
   "cell_type": "markdown",
   "metadata": {},
   "source": [
    "### N=100の場合\n",
    "図6-5"
   ]
  },
  {
   "cell_type": "code",
   "execution_count": null,
   "metadata": {},
   "outputs": [],
   "source": [
    "N = 100\n",
    "M = 2**N\n",
    "X = range(30,71)\n",
    "plt.bar(X, [scm.comb(N, i)/M for i in X])\n",
    "plt.show()"
   ]
  },
  {
   "cell_type": "markdown",
   "metadata": {},
   "source": [
    "### N = 1000の場合\n",
    "図6-6"
   ]
  },
  {
   "cell_type": "code",
   "execution_count": null,
   "metadata": {},
   "outputs": [],
   "source": [
    "N = 1000\n",
    "M = 2**N\n",
    "X = range(440,561)\n",
    "plt.bar(X, [scm.comb(N, i)/M for i in X])\n",
    "plt.show()"
   ]
  },
  {
   "cell_type": "markdown",
   "metadata": {},
   "source": [
    "##  正規分布関数とヒストグラム\n",
    "図6-8"
   ]
  },
  {
   "cell_type": "code",
   "execution_count": null,
   "metadata": {},
   "outputs": [],
   "source": [
    "import numpy as np\n",
    "import scipy.special as scm\n",
    "import matplotlib.pyplot as plt\n",
    "\n",
    "# 正規分布関数の定義\n",
    "def gauss(x, n):\n",
    "    m = n/2\n",
    "    return np.exp(-(x-m)**2 / m) /  np.sqrt(m * np.pi)\n",
    "\n",
    "# 正規分布関数と二項分布の重ね書き\n",
    "N = 1000\n",
    "M = 2**N\n",
    "X = range(440,561)\n",
    "plt.bar(X, [scm.comb(N, i)/M for i in X])\n",
    "plt.plot(X, gauss(np.array(X), N), c='k', linewidth=2)\n",
    "plt.show()"
   ]
  },
  {
   "cell_type": "markdown",
   "metadata": {},
   "source": [
    "### 数値計算による定積分\n",
    "図6-10"
   ]
  },
  {
   "cell_type": "code",
   "execution_count": null,
   "metadata": {},
   "outputs": [],
   "source": [
    "import numpy as np\n",
    "from scipy import integrate\n",
    "def normal(x):\n",
    "    return np.exp(-((x-500)**2)/500) / np.sqrt(500*np.pi)\n",
    "integrate.quad(normal, 0, 480)"
   ]
  },
  {
   "cell_type": "markdown",
   "metadata": {},
   "source": [
    "## 正規分布関数とシグモイド関数\n",
    "図6-11"
   ]
  },
  {
   "cell_type": "code",
   "execution_count": null,
   "metadata": {},
   "outputs": [],
   "source": [
    "import numpy as np\n",
    "import matplotlib.pyplot as plt\n",
    "\n",
    "# 正規分布関数\n",
    "def std(x, sigma=1):\n",
    "    return (np.exp(-(x/sigma)**2/2)) / (np.sqrt(2*np.pi) * sigma)\n",
    "\n",
    "# シグモイド関数(確率分布関数)\n",
    "def sigmoid(x):\n",
    "    return (1/(1 + np.exp(x)))\n",
    "\n",
    "# 座標値の計算\n",
    "x = np.linspace(-5, 5, 1000)\n",
    "y_std = std(x, 1.6)\n",
    "sig = sigmoid(x)\n",
    "y_sig = sig * (1-sig)\n",
    "\n",
    "# グラフ描画\n",
    "plt.figure(figsize=(8,8))\n",
    "plt.plot(x, y_std, label=\"std\", c='k',lw=3, linestyle='-.')\n",
    "plt.plot(x, y_sig, label=\"sig\", c='b',lw=3)\n",
    "plt.legend(fontsize=14)\n",
    "plt.grid(lw=2)\n",
    "plt.show()"
   ]
  },
  {
   "cell_type": "markdown",
   "metadata": {},
   "source": [
    "## 最尤推定\n",
    "図6-12"
   ]
  },
  {
   "cell_type": "code",
   "execution_count": null,
   "metadata": {},
   "outputs": [],
   "source": [
    "import numpy as np\n",
    "import matplotlib.pyplot as plt\n",
    "\n",
    "def L(p, n, k):\n",
    "    return( (p ** k) * ((1-p) ** (n-k)))\n",
    "\n",
    "x = np.linspace(0, 1, 1000)\n",
    "y = L(x, 5, 2)\n",
    "x0 = np.asarray([0.4, 0.4])\n",
    "y0 = np.asarray([0, L(0.4, 5, 2)])\n",
    "\n",
    "plt.figure(figsize=(6,6))\n",
    "plt.plot(x, y, c='b', lw=3)\n",
    "plt.plot(x0, y0, linestyle='dashed', c='k', lw=3)\n",
    "plt.xticks(size=16)\n",
    "plt.yticks(size=16)\n",
    "plt.grid(lw=2)\n",
    "plt.xlabel(\"p\", fontsize=16) \n",
    "plt.ylabel(\"L(p)\", fontsize=16)\n",
    "plt.show()"
   ]
  }
 ],
 "metadata": {
  "kernelspec": {
   "display_name": "Python 3 (ipykernel)",
   "language": "python",
   "name": "python3"
  },
  "language_info": {
   "codemirror_mode": {
    "name": "ipython",
    "version": 3
   },
   "file_extension": ".py",
   "mimetype": "text/x-python",
   "name": "python",
   "nbconvert_exporter": "python",
   "pygments_lexer": "ipython3",
   "version": "3.9.7"
  }
 },
 "nbformat": 4,
 "nbformat_minor": 1
}
