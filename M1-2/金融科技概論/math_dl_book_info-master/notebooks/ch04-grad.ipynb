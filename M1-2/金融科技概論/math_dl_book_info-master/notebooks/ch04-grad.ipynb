{
 "cells": [
  {
   "cell_type": "markdown",
   "metadata": {
    "collapsed": true
   },
   "source": [
    "# 4章　多変数関数の微分"
   ]
  },
  {
   "cell_type": "code",
   "execution_count": null,
   "metadata": {},
   "outputs": [],
   "source": [
    "# 必要ライブラリの宣言\n",
    "import numpy as np\n",
    "import matplotlib.pyplot as plt\n",
    "from mpl_toolkits import mplot3d"
   ]
  },
  {
   "cell_type": "code",
   "execution_count": null,
   "metadata": {},
   "outputs": [],
   "source": [
    "def L(u, v):\n",
    "    return 3 * u**2 + 3 * v**2 - u*v + 7*u - 7*v + 10"
   ]
  },
  {
   "cell_type": "code",
   "execution_count": null,
   "metadata": {},
   "outputs": [],
   "source": [
    "def Lu(u, v):\n",
    "    return 6* u - v + 7"
   ]
  },
  {
   "cell_type": "code",
   "execution_count": null,
   "metadata": {},
   "outputs": [],
   "source": [
    "def Lv(u, v):\n",
    "    return -u + 6 * v - 7"
   ]
  },
  {
   "cell_type": "code",
   "execution_count": null,
   "metadata": {},
   "outputs": [],
   "source": [
    "L(-1,1)"
   ]
  },
  {
   "cell_type": "code",
   "execution_count": null,
   "metadata": {},
   "outputs": [],
   "source": [
    "L(0,2)"
   ]
  },
  {
   "cell_type": "code",
   "execution_count": null,
   "metadata": {},
   "outputs": [],
   "source": [
    "Lu(0,0)"
   ]
  },
  {
   "cell_type": "code",
   "execution_count": null,
   "metadata": {},
   "outputs": [],
   "source": [
    "Lv(0,0)"
   ]
  },
  {
   "cell_type": "markdown",
   "metadata": {},
   "source": [
    "# 切断面グラフ"
   ]
  },
  {
   "cell_type": "code",
   "execution_count": null,
   "metadata": {},
   "outputs": [],
   "source": [
    "# fig04-04\n",
    "\n",
    "u = np.linspace(0.2, 5, 21)\n",
    "v = np.linspace(0.2, 5, 21)\n",
    "U, V = np.meshgrid(u, v)\n",
    "Z = L(U, V)\n",
    "uu = np.linspace(-5, 5, 41)\n",
    "vv = np.linspace(-5, 5, 41)\n",
    "zz = np.zeros(uu.shape)\n",
    "Luu = L(uu, zz)\n",
    "Lvv = L(zz, vv)\n",
    "uu2 = np.vstack((uu, uu))\n",
    "vv2 = np.vstack((vv, vv))\n",
    "zz2 = np.vstack((zz, zz))\n",
    "Luu2 = np.vstack((Luu, zz))\n",
    "Lvv2 = np.vstack((Lvv, zz))\n",
    "\n",
    "# 関数グラフのみ\n",
    "fig = plt.figure(figsize=(8,8))\n",
    "ax = plt.axes(projection='3d')\n",
    "ax.set_zlim(0, 250)\n",
    "ax.view_init(50, 240)\n",
    "ax.set_xlabel('$u$', fontsize=14)\n",
    "ax.set_ylabel('$v$', fontsize=14)\n",
    "ax.set_zlabel('$L(u,v)$', fontsize=14)\n",
    "ax.xaxis._axinfo[\"grid\"]['linewidth'] = 2.\n",
    "ax.yaxis._axinfo[\"grid\"]['linewidth'] = 2.\n",
    "ax.zaxis._axinfo[\"grid\"]['linewidth'] = 2.\n",
    "ax.set_xlim(-5,5)\n",
    "ax.set_ylim(-5,5)\n",
    "ax.plot_surface(U, V, Z, rstride=1, cstride=1, cmap='Blues', \n",
    "                linewidth=0, shade=False, antialiased=False)\n",
    "ax.plot_surface(uu2, zz2, Luu2, color='white', linewidth=0, shade=False)\n",
    "ax.plot_surface(zz2, vv2, Lvv2, color='white',linewidth=0, shade=False)\n",
    "ax.plot3D(uu, zz, Luu,c='k', lw=3, linestyle='-', label='$z = L(u, 0)$')\n",
    "ax.plot3D(zz, vv, Lvv,c='k', lw=3, linestyle='--', label='$z = L(0, v)$')\n",
    "ax.legend()\n",
    "plt.show()"
   ]
  },
  {
   "cell_type": "markdown",
   "metadata": {},
   "source": [
    "# 勾配降下法"
   ]
  },
  {
   "cell_type": "code",
   "execution_count": null,
   "metadata": {},
   "outputs": [],
   "source": [
    "u = np.linspace(-5, 5, 501)\n",
    "v = np.linspace(-5, 5, 501)"
   ]
  },
  {
   "cell_type": "code",
   "execution_count": null,
   "metadata": {},
   "outputs": [],
   "source": [
    "U, V = np.meshgrid(u, v)\n",
    "Z = L(U, V)"
   ]
  },
  {
   "cell_type": "code",
   "execution_count": null,
   "metadata": {},
   "outputs": [],
   "source": [
    "# 勾配降下法のシミュレーション\n",
    "W = np.array([4.0, 4.0])\n",
    "W1 = [W[0]]\n",
    "W2 = [W[1]]\n",
    "N = 21\n",
    "alpha = 0.05\n",
    "for i in range(N):\n",
    "    W = W - alpha *np.array([Lu(W[0], W[1]), Lv(W[0], W[1])])\n",
    "    W1.append(W[0])\n",
    "    W2.append(W[1])"
   ]
  },
  {
   "cell_type": "markdown",
   "metadata": {},
   "source": [
    "## 関数グラフ"
   ]
  },
  {
   "cell_type": "code",
   "execution_count": null,
   "metadata": {
    "scrolled": true
   },
   "outputs": [],
   "source": [
    "n_loop = 0\n",
    "# 関数グラフのみ\n",
    "# fig04-03 左\n",
    "\n",
    "WW1 = np.array(W1[:n_loop])\n",
    "WW2 = np.array(W2[:n_loop])\n",
    "ZZ = L(WW1, WW2)\n",
    "fig = plt.figure(figsize=(8,8))\n",
    "ax = plt.axes(projection='3d')\n",
    "ax.set_zlim(0,250)\n",
    "ax.view_init(50, 240)\n",
    "ax.set_xlabel('u', fontsize=14)\n",
    "ax.set_ylabel('v', fontsize=14)\n",
    "ax.set_zlabel('L(u,v)', fontsize=14)\n",
    "ax.xaxis._axinfo[\"grid\"]['linewidth'] = 2.\n",
    "ax.yaxis._axinfo[\"grid\"]['linewidth'] = 2.\n",
    "ax.zaxis._axinfo[\"grid\"]['linewidth'] = 2.\n",
    "ax.contour3D(U, V, Z, 100, cmap='Blues', alpha=1.0)\n",
    "#ax.plot_surface(U, V, Z,  cmap='Blues', linewidth=0)\n",
    "plt.show()"
   ]
  },
  {
   "cell_type": "code",
   "execution_count": null,
   "metadata": {},
   "outputs": [],
   "source": [
    "# 関数グラフのみ\n",
    "# fig04-03 右\n",
    "\n",
    "plt.figure(figsize=(8,8))\n",
    "plt.contourf(U, V, Z, levels=[5,10,20,30,40,50,70,100, 200], cmap='Blues')\n",
    "C = plt.contour(U, V, Z, levels=[5,10,20,30,40,50,70,100, 200],colors='k')\n",
    "plt.clabel(C, inline=1, fontsize=10, fmt='%r')\n",
    "plt.gca().set_aspect('equal')\n",
    "plt.xticks(range(-4,5,1))\n",
    "plt.yticks(range(-4,5,1))\n",
    "plt.xlabel('u', fontsize=14)\n",
    "plt.ylabel('v', fontsize=14)\n",
    "plt.grid(linewidth=2)\n",
    "plt.show()"
   ]
  },
  {
   "cell_type": "markdown",
   "metadata": {},
   "source": [
    "# 初期状態"
   ]
  },
  {
   "cell_type": "code",
   "execution_count": null,
   "metadata": {},
   "outputs": [],
   "source": [
    "n_loop = 1"
   ]
  },
  {
   "cell_type": "code",
   "execution_count": null,
   "metadata": {},
   "outputs": [],
   "source": [
    "# fig-04-07-1\n",
    "WW1 = np.array(W1[:n_loop])\n",
    "WW2 = np.array(W2[:n_loop])\n",
    "ZZ = L(WW1, WW2)\n",
    "fig = plt.figure(figsize=(8,8))\n",
    "ax = plt.axes(projection='3d')\n",
    "ax.set_zlim(0,250)\n",
    "ax.set_xlabel('u', fontsize=14)\n",
    "ax.set_ylabel('v', fontsize=14)\n",
    "ax.set_zlabel('L(u,v)', fontsize=14)\n",
    "ax.view_init(50, 240)\n",
    "ax.xaxis._axinfo[\"grid\"]['linewidth'] = 2.\n",
    "ax.yaxis._axinfo[\"grid\"]['linewidth'] = 2.\n",
    "ax.zaxis._axinfo[\"grid\"]['linewidth'] = 2.\n",
    "ax.contour3D(U, V, Z, 100, cmap='Blues', alpha=0.7)\n",
    "ax.plot3D(WW1, WW2, ZZ, 'o-', c='k', alpha=1, markersize=7)\n",
    "plt.show()"
   ]
  },
  {
   "cell_type": "code",
   "execution_count": null,
   "metadata": {},
   "outputs": [],
   "source": [
    "# fig04-07-2\n",
    "plt.figure(figsize=(8,8))\n",
    "plt.contourf(U, V, Z, levels=[5,10,20,30,40,50,70,100, 200], cmap='Blues')\n",
    "C = plt.contour(U, V, Z, levels=[5,10,20,30,40,50,70,100, 200],colors='k')\n",
    "plt.clabel(C, inline=1, fontsize=10, fmt='%r')\n",
    "plt.gca().set_aspect('equal')\n",
    "plt.plot(W1[:n_loop], W2[:n_loop], '-o', c='k')\n",
    "plt.xticks(range(-4,5,1))\n",
    "plt.yticks(range(-4,5,1))\n",
    "plt.xlabel('u', fontsize=14)\n",
    "plt.ylabel('v', fontsize=14)\n",
    "plt.grid(linewidth=2)\n",
    "plt.show()"
   ]
  },
  {
   "cell_type": "markdown",
   "metadata": {},
   "source": [
    "# 第1ステップ"
   ]
  },
  {
   "cell_type": "code",
   "execution_count": null,
   "metadata": {},
   "outputs": [],
   "source": [
    "n_loop = 2"
   ]
  },
  {
   "cell_type": "code",
   "execution_count": null,
   "metadata": {},
   "outputs": [],
   "source": [
    "# fig04-08-1\n",
    "WW1 = np.array(W1[:n_loop])\n",
    "WW2 = np.array(W2[:n_loop])\n",
    "ZZ = L(WW1, WW2)\n",
    "fig = plt.figure(figsize=(8,8))\n",
    "ax = plt.axes(projection='3d')\n",
    "ax.set_zlim(0,250)\n",
    "ax.set_xlabel('u', fontsize=14)\n",
    "ax.set_ylabel('v', fontsize=14)\n",
    "ax.set_zlabel('L(u,v)', fontsize=14)\n",
    "ax.view_init(50, 240)\n",
    "ax.xaxis._axinfo[\"grid\"]['linewidth'] = 2.\n",
    "ax.yaxis._axinfo[\"grid\"]['linewidth'] = 2.\n",
    "ax.zaxis._axinfo[\"grid\"]['linewidth'] = 2.\n",
    "ax.contour3D(U, V, Z, 100, cmap='Blues', alpha=0.7)\n",
    "ax.plot3D(WW1, WW2, ZZ, 'o-', c='k', alpha=1, markersize=7)\n",
    "plt.show()"
   ]
  },
  {
   "cell_type": "code",
   "execution_count": null,
   "metadata": {},
   "outputs": [],
   "source": [
    "# fig04-08-2\n",
    "plt.figure(figsize=(8,8))\n",
    "plt.contourf(U, V, Z, levels=[5,10,20,30,40,50,70,100, 200], cmap='Blues')\n",
    "C = plt.contour(U, V, Z, levels=[5,10,20,30,40,50,70,100, 200],colors='k')\n",
    "plt.clabel(C, inline=1, fontsize=10, fmt='%r')\n",
    "plt.plot(W1[:n_loop], W2[:n_loop], '-o', c='k')\n",
    "plt.gca().set_aspect('equal')\n",
    "plt.xticks(range(-4,5,1))\n",
    "plt.yticks(range(-4,5,1))\n",
    "plt.xlabel('u', fontsize=14)\n",
    "plt.ylabel('v', fontsize=14)\n",
    "plt.grid(linewidth=2)\n",
    "plt.show()"
   ]
  },
  {
   "cell_type": "markdown",
   "metadata": {},
   "source": [
    "# step5"
   ]
  },
  {
   "cell_type": "code",
   "execution_count": null,
   "metadata": {},
   "outputs": [],
   "source": [
    "n_loop = 6"
   ]
  },
  {
   "cell_type": "code",
   "execution_count": null,
   "metadata": {},
   "outputs": [],
   "source": [
    "# fig04-09-1\n",
    "WW1 = np.array(W1[:n_loop])\n",
    "WW2 = np.array(W2[:n_loop])\n",
    "ZZ = L(WW1, WW2)\n",
    "fig = plt.figure(figsize=(8,8))\n",
    "ax = plt.axes(projection='3d')\n",
    "ax.set_zlim(0,250)\n",
    "ax.set_xlabel('u', fontsize=14)\n",
    "ax.set_ylabel('v', fontsize=14)\n",
    "ax.set_zlabel('L(u,v)', fontsize=14)\n",
    "ax.view_init(50, 240)\n",
    "ax.xaxis._axinfo[\"grid\"]['linewidth'] = 2.\n",
    "ax.yaxis._axinfo[\"grid\"]['linewidth'] = 2.\n",
    "ax.zaxis._axinfo[\"grid\"]['linewidth'] = 2.\n",
    "ax.contour3D(U, V, Z, 100, cmap='Blues', alpha=0.7)\n",
    "ax.plot3D(WW1, WW2, ZZ, 'o-', c='k', alpha=1, markersize=7)\n",
    "plt.show()"
   ]
  },
  {
   "cell_type": "code",
   "execution_count": null,
   "metadata": {},
   "outputs": [],
   "source": [
    "# fig04-09-2\n",
    "plt.figure(figsize=(8,8))\n",
    "plt.contourf(U, V, Z, levels=[5,10,20,30,40,50,70,100, 200], cmap='Blues')\n",
    "C = plt.contour(U, V, Z, levels=[5,10,20,30,40,50,70,100, 200],colors='k')\n",
    "plt.clabel(C, inline=1, fontsize=10, fmt='%r')\n",
    "plt.plot(W1[:n_loop], W2[:n_loop], '-o', c='k')\n",
    "plt.gca().set_aspect('equal')\n",
    "plt.xticks(range(-4,5,1))\n",
    "plt.yticks(range(-4,5,1))\n",
    "plt.xlabel('u', fontsize=14)\n",
    "plt.ylabel('v', fontsize=14)\n",
    "plt.grid(linewidth=2)\n",
    "plt.show()"
   ]
  },
  {
   "cell_type": "markdown",
   "metadata": {},
   "source": [
    "# step20"
   ]
  },
  {
   "cell_type": "code",
   "execution_count": null,
   "metadata": {},
   "outputs": [],
   "source": [
    "n_loop = 21"
   ]
  },
  {
   "cell_type": "code",
   "execution_count": null,
   "metadata": {},
   "outputs": [],
   "source": [
    "# fig04-10-1\n",
    "WW1 = np.array(W1[:n_loop])\n",
    "WW2 = np.array(W2[:n_loop])\n",
    "ZZ = L(WW1, WW2)\n",
    "fig = plt.figure(figsize=(8,8))\n",
    "ax = plt.axes(projection='3d')\n",
    "ax.set_zlim(0,250)\n",
    "ax.set_xlabel('u', fontsize=14)\n",
    "ax.set_ylabel('v', fontsize=14)\n",
    "ax.set_zlabel('L(u,v)', fontsize=14)\n",
    "ax.view_init(50, 240)\n",
    "ax.xaxis._axinfo[\"grid\"]['linewidth'] = 2.\n",
    "ax.yaxis._axinfo[\"grid\"]['linewidth'] = 2.\n",
    "ax.zaxis._axinfo[\"grid\"]['linewidth'] = 2.\n",
    "ax.contour3D(U, V, Z, 100, cmap='Blues', alpha=0.7)\n",
    "ax.plot3D(WW1, WW2, ZZ, 'o-', c='k', alpha=1, markersize=7)\n",
    "plt.show()"
   ]
  },
  {
   "cell_type": "code",
   "execution_count": null,
   "metadata": {
    "scrolled": false
   },
   "outputs": [],
   "source": [
    "# fig04-10-2\n",
    "plt.figure(figsize=(8,8))\n",
    "plt.contourf(U, V, Z, levels=[5,10,20,30,40,50,70,100, 200], cmap='Blues')\n",
    "C = plt.contour(U, V, Z, levels=[5,10,20,30,40,50,70,100, 200],colors='k')\n",
    "plt.clabel(C, inline=1, fontsize=10, fmt='%r')\n",
    "plt.plot(W1, W2, '-o', c='k')\n",
    "plt.gca().set_aspect('equal')\n",
    "plt.xticks(range(-4,5,1))\n",
    "plt.yticks(range(-4,5,1))\n",
    "plt.xlabel('u', fontsize=14)\n",
    "plt.ylabel('v', fontsize=14)\n",
    "plt.grid(linewidth=2)\n",
    "plt.show()"
   ]
  },
  {
   "cell_type": "markdown",
   "metadata": {},
   "source": [
    "## 図4-12"
   ]
  },
  {
   "cell_type": "code",
   "execution_count": null,
   "metadata": {},
   "outputs": [],
   "source": [
    "def f(x):\n",
    "    return x**2\n",
    "def diff(x):\n",
    "    return 2*x"
   ]
  },
  {
   "cell_type": "code",
   "execution_count": null,
   "metadata": {},
   "outputs": [],
   "source": [
    "x = np.linspace(-2.5, 2.5, 101)\n",
    "y = f(x)"
   ]
  },
  {
   "cell_type": "code",
   "execution_count": null,
   "metadata": {},
   "outputs": [],
   "source": [
    "a1 = 2\n",
    "b1 = f(a1)\n",
    "d1 = diff(a1) * 0.1\n",
    "a2 = 1.5\n",
    "b2 = f(a2)\n",
    "d2 = diff(a2) * 0.1\n",
    "a3 = 1\n",
    "b3 = f(a3)\n",
    "d3 = diff(a3) * 0.1\n",
    "a4 = 0.5\n",
    "b4 = f(a4)\n",
    "d4 = diff(a4) * 0.1"
   ]
  },
  {
   "cell_type": "code",
   "execution_count": null,
   "metadata": {},
   "outputs": [],
   "source": [
    "plt.figure(figsize=(8,8))\n",
    "plt.plot(x, y)\n",
    "plt.arrow(a1, b1, -d1, 0, head_width=0.1, head_length=0.1, color='k')\n",
    "plt.arrow(a2, b2, -d2, 0, head_width=0.1, head_length=0.1, color='k')\n",
    "plt.arrow(a3, b3, -d3, 0, head_width=0.1, head_length=0.1, color='k')\n",
    "plt.arrow(a4, b4, -d4, 0, head_width=0.1, head_length=0.1, color='k')\n",
    "plt.grid()\n",
    "plt.show()"
   ]
  },
  {
   "cell_type": "markdown",
   "metadata": {},
   "source": [
    "## 図4-13"
   ]
  },
  {
   "cell_type": "code",
   "execution_count": null,
   "metadata": {},
   "outputs": [],
   "source": [
    "def L(u, v):\n",
    "    return 3 * u**2 + 3 * v**2 - u*v + 7*u - 7*v + 10"
   ]
  },
  {
   "cell_type": "code",
   "execution_count": null,
   "metadata": {},
   "outputs": [],
   "source": [
    "def Lu(u, v):\n",
    "    return 6* u - v + 7"
   ]
  },
  {
   "cell_type": "code",
   "execution_count": null,
   "metadata": {},
   "outputs": [],
   "source": [
    "def Lv(u, v):\n",
    "    return -u + 6 * v - 7"
   ]
  },
  {
   "cell_type": "code",
   "execution_count": null,
   "metadata": {},
   "outputs": [],
   "source": [
    "u = np.linspace(-5, 5, 11)\n",
    "v = np.linspace(-5, 5, 11)\n",
    "U, V = np.meshgrid(u, v)\n",
    "Z = L(U, V)"
   ]
  },
  {
   "cell_type": "code",
   "execution_count": null,
   "metadata": {},
   "outputs": [],
   "source": [
    "Luu = Lu(U, V)\n",
    "Lvv = Lv(U, V)"
   ]
  },
  {
   "cell_type": "code",
   "execution_count": null,
   "metadata": {},
   "outputs": [],
   "source": [
    "plt.figure(figsize=(8,8))\n",
    "plt.quiver(U, V, -Luu, -Lvv)\n",
    "plt.xticks(np.arange(-5,5,1))\n",
    "plt.yticks(np.arange(-5,5,1))\n",
    "plt.scatter([-1],[1],s=80, c='k')\n",
    "plt.grid()\n",
    "plt.show()"
   ]
  },
  {
   "cell_type": "markdown",
   "metadata": {},
   "source": [
    "## コラム"
   ]
  },
  {
   "cell_type": "code",
   "execution_count": null,
   "metadata": {},
   "outputs": [],
   "source": [
    "def f(x):\n",
    "    return 3*x**4 + 4*x**3 - 12*x**2"
   ]
  },
  {
   "cell_type": "code",
   "execution_count": null,
   "metadata": {},
   "outputs": [],
   "source": [
    "def diff(x):\n",
    "    return x**3 + x**2 - x"
   ]
  },
  {
   "cell_type": "code",
   "execution_count": null,
   "metadata": {},
   "outputs": [],
   "source": [
    "xx = np.linspace(-3, 2, 101)\n",
    "yy = f(xx)"
   ]
  },
  {
   "cell_type": "code",
   "execution_count": null,
   "metadata": {},
   "outputs": [],
   "source": [
    "a1 = 0.5\n",
    "a2 = -0.5"
   ]
  },
  {
   "cell_type": "code",
   "execution_count": null,
   "metadata": {},
   "outputs": [],
   "source": [
    "plt.figure(figsize=(6,6))\n",
    "plt.xticks(color=\"None\")\n",
    "plt.yticks(color=\"None\")\n",
    "plt.tick_params(length=0)\n",
    "plt.plot(xx, yy)\n",
    "plt.scatter([a1],[f(a1)], s=50, c='k', label='A')\n",
    "plt.scatter([a2],[f(a2)], s=50, c='b', label='B')\n",
    "plt.scatter([-2, 1],[f(-2), f(1)], s=50, c='k')\n",
    "plt.quiver([a1, a2],[f(a1), f(a2)], [diff(a1), diff(a2)],[0, 0])\n",
    "plt.show()"
   ]
  }
 ],
 "metadata": {
  "kernelspec": {
   "display_name": "Python 3 (ipykernel)",
   "language": "python",
   "name": "python3"
  },
  "language_info": {
   "codemirror_mode": {
    "name": "ipython",
    "version": 3
   },
   "file_extension": ".py",
   "mimetype": "text/x-python",
   "name": "python",
   "nbconvert_exporter": "python",
   "pygments_lexer": "ipython3",
   "version": "3.9.7"
  }
 },
 "nbformat": 4,
 "nbformat_minor": 1
}
