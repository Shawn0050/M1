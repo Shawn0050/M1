{
 "cells": [
  {
   "cell_type": "markdown",
   "metadata": {},
   "source": [
    "# 3章　ベクトル・行列"
   ]
  },
  {
   "cell_type": "code",
   "execution_count": null,
   "metadata": {},
   "outputs": [],
   "source": [
    "# 必要ライブラリの宣言\n",
    "import numpy as np\n",
    "import matplotlib.pyplot as plt"
   ]
  },
  {
   "cell_type": "code",
   "execution_count": null,
   "metadata": {},
   "outputs": [],
   "source": [
    "# 三角関数の定義 (ラジアン->360度)\n",
    "def sin(x):\n",
    "    return(np.sin(x * np.pi / 180.))\n",
    "def cos(x):\n",
    "    return(np.cos(x * np.pi / 180.))\n",
    "x = np.linspace(-180.0, 720, 500)"
   ]
  },
  {
   "cell_type": "code",
   "execution_count": null,
   "metadata": {},
   "outputs": [],
   "source": [
    "# 正弦関数(sin)のグラフ\n",
    "fig = plt.figure(figsize=(10,3))\n",
    "plt.xlabel('x',fontsize=14)\n",
    "plt.ylabel('y',fontsize=14)\n",
    "plt.xlim(-180.0, 720.0)\n",
    "plt.xticks(np.arange(-180, 810, 90))\n",
    "plt.ylim(-1.2, 1.2)\n",
    "plt.grid(lw=2)\n",
    "plt.plot(x, sin(x), c='b')\n",
    "plt.plot([-180,721],[0,0], color='black')\n",
    "plt.plot([0,0],[-1.5,1.5],color='black')\n",
    "plt.show()"
   ]
  },
  {
   "cell_type": "code",
   "execution_count": null,
   "metadata": {},
   "outputs": [],
   "source": [
    "# 余弦関数(cos)のグラフ\n",
    "fig = plt.figure(figsize=(10,3))\n",
    "plt.xlabel('x',fontsize=14)\n",
    "plt.ylabel('y',fontsize=14)\n",
    "plt.xlim(-180.0, 720.0)\n",
    "plt.xticks(np.arange(-180, 810, 90))\n",
    "plt.ylim(-1.2, 1.2)\n",
    "plt.grid(lw=2)\n",
    "plt.plot(x, cos(x), c='b')\n",
    "plt.plot([-180,720],[0,0], color='black')\n",
    "plt.plot([0,0],[-1.5,1.5],color='black')\n",
    "plt.show()"
   ]
  }
 ],
 "metadata": {
  "kernelspec": {
   "display_name": "Python 3 (ipykernel)",
   "language": "python",
   "name": "python3"
  },
  "language_info": {
   "codemirror_mode": {
    "name": "ipython",
    "version": 3
   },
   "file_extension": ".py",
   "mimetype": "text/x-python",
   "name": "python",
   "nbconvert_exporter": "python",
   "pygments_lexer": "ipython3",
   "version": "3.9.7"
  }
 },
 "nbformat": 4,
 "nbformat_minor": 2
}
