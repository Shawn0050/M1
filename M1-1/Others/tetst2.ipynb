{
 "cells": [
  {
   "cell_type": "code",
   "execution_count": 30,
   "metadata": {},
   "outputs": [
    {
     "name": "stdout",
     "output_type": "stream",
     "text": [
      "  platform   ticker    start direction  size open_order_id status\n",
      "0     FXCM  AAPL.us  2023-10         B    10        299115      1\n",
      "1     FXCM  TSLA.us  2023-10         B    50        299116      1\n"
     ]
    }
   ],
   "source": [
    "    # a = get_open_positions_withAccount(account)\n",
    "    # # print(a['open_order_id'])\n",
    "    # # print(start_time['open_order_id'].dtype)\n",
    "    # a1 = pd.DataFrame()\n",
    "    # a1['open_order_id'] = a['open_order_id'].astype(int)\n",
    "    # # print(a1['open_order_id'].dtype)\n",
    "    # # 找出 s 中具有且 a 也有的值\n",
    "    # start_time_intersection_a1 = start_time[start_time['open_order_id'].isin(a1['open_order_id'])]\n",
    "    # # 回存到 s 中\n",
    "    # start_time = start_time_intersection_a1\n",
    "import pandas as pd\n",
    "data = {'platform':('FXCM','FXCM'),\n",
    "        'ticker':('AAPL.us','TSLA.us'),\n",
    "        'start':('2023-10','2023-10'),\n",
    "        'direction':('B','B'),\n",
    "        'size':(10,50),\n",
    "        'open_order_id':('299115','299116'),\n",
    "        'status':('1','1')}\n",
    "df = pd.DataFrame(data)\n",
    "print(df)\n",
    "\n",
    "data1 = {'ticker':['TSLA.us'],\n",
    "         'open_order_id':['299117']}\n",
    "df1 = pd.DataFrame(data1)\n",
    "# df1"
   ]
  },
  {
   "cell_type": "code",
   "execution_count": 32,
   "metadata": {},
   "outputs": [
    {
     "name": "stdout",
     "output_type": "stream",
     "text": [
      "  platform   ticker    start direction  size open_order_id status\n",
      "0     FXCM  AAPL.us  2023-10         B    10        299115      1\n",
      "  platform   ticker    start direction  size open_order_id status\n",
      "0     FXCM  AAPL.us  2023-10         B    10        299115      1\n",
      "1     FXCM  TSLA.us  2023-10         B    50        299116      1\n"
     ]
    }
   ],
   "source": [
    "data2 = {\n",
    "        'ticker':('AAPL.us','TSLA.us'),\n",
    "        'open_order_id':('299115','299117')\n",
    "        }\n",
    "df1 = pd.DataFrame(data2)\n",
    "contains = df.merge(df1, on=['ticker', 'open_order_id'], how='inner')\n",
    "print(contains)\n",
    "# 如果 df1 中的 'ticker' 和 'open_order_id' 不在 df 中，删除 df 中相同 'ticker' 的行\n",
    "if contains.empty:\n",
    "    # df1 中的 'ticker' 和 'open_order_id' 组合不在 df 中，删除 df 中与 df1 'ticker' 相同的行\n",
    "    df = df[~df['ticker'].isin(df1['ticker'])]\n",
    "\n",
    "print(df)"
   ]
  },
  {
   "cell_type": "code",
   "execution_count": 33,
   "metadata": {},
   "outputs": [
    {
     "data": {
      "text/plain": [
       "[{'ticker': 'AAPL', 'open_order_id': 'id1', 'other_data': 'foo'},\n",
       " {'ticker': 'MSFT', 'open_order_id': 'id2', 'other_data': 'baz'},\n",
       " {'ticker': 'AAPL', 'open_order_id': 'id3', 'other_data': 'qux'}]"
      ]
     },
     "execution_count": 33,
     "metadata": {},
     "output_type": "execute_result"
    }
   ],
   "source": [
    "# Assuming 'a' and 'starttime' are dictionaries that contain the data mentioned by the user.\n",
    "# 'a' contains a list of 'open_order_id' and 'starttime' is a list of dictionaries where each dictionary\n",
    "# has a 'ticker' and 'open_order_id' among other possible keys.\n",
    "\n",
    "# Sample data structure based on user's description\n",
    "a = {'open_order_id': ['id1', 'id2', 'id3']}\n",
    "starttime = [\n",
    "    {'ticker': 'AAPL', 'open_order_id': 'id1', 'other_data': 'foo'},\n",
    "    {'ticker': 'AAPL', 'open_order_id': 'id4', 'other_data': 'bar'},\n",
    "    {'ticker': 'MSFT', 'open_order_id': 'id2', 'other_data': 'baz'},\n",
    "    {'ticker': 'AAPL', 'open_order_id': 'id3', 'other_data': 'qux'}\n",
    "]\n",
    "\n",
    "# Ticker to check\n",
    "ticker = 'AAPL'\n",
    "\n",
    "# We will remove elements from starttime where 'ticker' matches but 'open_order_id' is not in 'open_id'\n",
    "open_id = a['open_order_id']\n",
    "filtered_starttime = [entry for entry in starttime if not (entry['ticker'] == ticker and entry['open_order_id'] not in open_id)]\n",
    "\n",
    "filtered_starttime"
   ]
  },
  {
   "cell_type": "code",
   "execution_count": 39,
   "metadata": {},
   "outputs": [
    {
     "data": {
      "text/html": [
       "<div>\n",
       "<style scoped>\n",
       "    .dataframe tbody tr th:only-of-type {\n",
       "        vertical-align: middle;\n",
       "    }\n",
       "\n",
       "    .dataframe tbody tr th {\n",
       "        vertical-align: top;\n",
       "    }\n",
       "\n",
       "    .dataframe thead th {\n",
       "        text-align: right;\n",
       "    }\n",
       "</style>\n",
       "<table border=\"1\" class=\"dataframe\">\n",
       "  <thead>\n",
       "    <tr style=\"text-align: right;\">\n",
       "      <th></th>\n",
       "      <th>ticker</th>\n",
       "      <th>open_order_id</th>\n",
       "    </tr>\n",
       "  </thead>\n",
       "  <tbody>\n",
       "    <tr>\n",
       "      <th>0</th>\n",
       "      <td>T1</td>\n",
       "      <td>A1</td>\n",
       "    </tr>\n",
       "    <tr>\n",
       "      <th>1</th>\n",
       "      <td>T2</td>\n",
       "      <td>A4</td>\n",
       "    </tr>\n",
       "    <tr>\n",
       "      <th>2</th>\n",
       "      <td>T3</td>\n",
       "      <td>A2</td>\n",
       "    </tr>\n",
       "  </tbody>\n",
       "</table>\n",
       "</div>"
      ],
      "text/plain": [
       "  ticker open_order_id\n",
       "0     T1            A1\n",
       "1     T2            A4\n",
       "2     T3            A2"
      ]
     },
     "execution_count": 39,
     "metadata": {},
     "output_type": "execute_result"
    }
   ],
   "source": [
    "import pandas as pd\n",
    "\n",
    "# 创建示例DataFrame a\n",
    "a_data = {'open_order_id': ['A1', 'A2', 'A3']}\n",
    "a = pd.DataFrame(a_data)\n",
    "\n",
    "# 创建示例DataFrame starttime\n",
    "starttime_data = {'ticker': ['T1', 'T2', 'T3'],\n",
    "                  'open_order_id': ['A1', 'A4', 'A2']}\n",
    "starttime = pd.DataFrame(starttime_data)\n",
    "starttime\n"
   ]
  },
  {
   "cell_type": "code",
   "execution_count": 40,
   "metadata": {},
   "outputs": [],
   "source": [
    "# 基于条件删除starttime中的行\n",
    "ticker = 'T1'\n",
    "starttime = starttime[(starttime['ticker'] != ticker) | (starttime['open_order_id'].isin(a['open_order_id']))]"
   ]
  },
  {
   "cell_type": "code",
   "execution_count": 41,
   "metadata": {},
   "outputs": [
    {
     "data": {
      "text/html": [
       "<div>\n",
       "<style scoped>\n",
       "    .dataframe tbody tr th:only-of-type {\n",
       "        vertical-align: middle;\n",
       "    }\n",
       "\n",
       "    .dataframe tbody tr th {\n",
       "        vertical-align: top;\n",
       "    }\n",
       "\n",
       "    .dataframe thead th {\n",
       "        text-align: right;\n",
       "    }\n",
       "</style>\n",
       "<table border=\"1\" class=\"dataframe\">\n",
       "  <thead>\n",
       "    <tr style=\"text-align: right;\">\n",
       "      <th></th>\n",
       "      <th>ticker</th>\n",
       "      <th>open_order_id</th>\n",
       "    </tr>\n",
       "  </thead>\n",
       "  <tbody>\n",
       "    <tr>\n",
       "      <th>1</th>\n",
       "      <td>T2</td>\n",
       "      <td>A4</td>\n",
       "    </tr>\n",
       "    <tr>\n",
       "      <th>2</th>\n",
       "      <td>T3</td>\n",
       "      <td>A2</td>\n",
       "    </tr>\n",
       "  </tbody>\n",
       "</table>\n",
       "</div>"
      ],
      "text/plain": [
       "  ticker open_order_id\n",
       "1     T2            A4\n",
       "2     T3            A2"
      ]
     },
     "execution_count": 41,
     "metadata": {},
     "output_type": "execute_result"
    }
   ],
   "source": [
    "starttime "
   ]
  }
 ],
 "metadata": {
  "kernelspec": {
   "display_name": "Python 3",
   "language": "python",
   "name": "python3"
  },
  "language_info": {
   "codemirror_mode": {
    "name": "ipython",
    "version": 3
   },
   "file_extension": ".py",
   "mimetype": "text/x-python",
   "name": "python",
   "nbconvert_exporter": "python",
   "pygments_lexer": "ipython3",
   "version": "3.11.5"
  }
 },
 "nbformat": 4,
 "nbformat_minor": 2
}
