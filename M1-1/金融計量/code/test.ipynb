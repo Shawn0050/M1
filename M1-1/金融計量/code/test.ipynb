{
 "cells": [
  {
   "cell_type": "code",
   "execution_count": 7,
   "metadata": {},
   "outputs": [
    {
     "name": "stdout",
     "output_type": "stream",
     "text": [
      "      年   報酬率 組別  市值\n",
      "0  2010  0.05  A   1\n",
      "1  2010  0.10  B   2\n",
      "2  2010  0.15  A   3\n",
      "3  2010  0.20  B   4\n",
      "4  2011  0.01  A   1\n",
      "5  2011  0.02  B   2\n",
      "6  2011  0.03  A   3\n",
      "7  2011  0.04  B   4\n",
      "      年 組別     加權報酬率\n",
      "0  2010  A  0.125000\n",
      "1  2010  B  0.166667\n",
      "2  2011  A  0.025000\n",
      "3  2011  B  0.033333\n"
     ]
    }
   ],
   "source": [
    "import pandas as pd\n",
    "\n",
    "# 創建數據\n",
    "data = {\n",
    "    '年': [2010, 2010, 2010, 2010, 2011, 2011, 2011, 2011],\n",
    "    '報酬率': [0.05, 0.1, 0.15, 0.2, 0.01, 0.02, 0.03, 0.04],\n",
    "    '組別': ['A', 'B', 'A', 'B', 'A', 'B', 'A', 'B'],\n",
    "    '市值': [1, 2, 3, 4, 1, 2, 3, 4]\n",
    "}\n",
    "\n",
    "df = pd.DataFrame(data)\n",
    "print(df)\n",
    "# 按照年份和組別分組，計算加權報酬率\n",
    "weighted_returns = df.groupby(['年', '組別']).apply(lambda x: (x['報酬率'] * x['市值']).sum() / x['市值'].sum()).reset_index()\n",
    "weighted_returns.columns = ['年', '組別', '加權報酬率']\n",
    "\n",
    "print(weighted_returns)"
   ]
  },
  {
   "cell_type": "code",
   "execution_count": 6,
   "metadata": {},
   "outputs": [
    {
     "name": "stdout",
     "output_type": "stream",
     "text": [
      "          A         B\n",
      "年                    \n",
      "2010  0.125  0.166667\n",
      "2011  0.025  0.033333\n"
     ]
    }
   ],
   "source": [
    "result_df = weighted_returns.pivot(index='年', columns='組別', values='加權報酬率')\n",
    "\n",
    "result_df.index.name = '年'\n",
    "result_df.columns.name = None\n",
    "print(result_df)"
   ]
  }
 ],
 "metadata": {
  "kernelspec": {
   "display_name": "Python 3",
   "language": "python",
   "name": "python3"
  },
  "language_info": {
   "codemirror_mode": {
    "name": "ipython",
    "version": 3
   },
   "file_extension": ".py",
   "mimetype": "text/x-python",
   "name": "python",
   "nbconvert_exporter": "python",
   "pygments_lexer": "ipython3",
   "version": "3.11.5"
  }
 },
 "nbformat": 4,
 "nbformat_minor": 2
}
